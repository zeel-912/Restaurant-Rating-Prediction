{
 "cells": [
  {
   "cell_type": "code",
   "execution_count": 1,
   "metadata": {
    "executionInfo": {
     "elapsed": 430,
     "status": "ok",
     "timestamp": 1698233180562,
     "user": {
      "displayName": "Zeel Patel",
      "userId": "15884098855672591122"
     },
     "user_tz": -330
    },
    "id": "VkXfHTDusnkH"
   },
   "outputs": [],
   "source": [
    "## installing dependencies\n",
    "import numpy as np\n",
    "import pandas as pd\n",
    "import seaborn as sns\n",
    "import matplotlib.pyplot as plt\n",
    "import warnings\n",
    "warnings.filterwarnings('ignore')"
   ]
  },
  {
   "cell_type": "code",
   "execution_count": 3,
   "metadata": {
    "colab": {
     "base_uri": "https://localhost:8080/",
     "height": 564
    },
    "executionInfo": {
     "elapsed": 12832,
     "status": "ok",
     "timestamp": 1698231087899,
     "user": {
      "displayName": "Zeel Patel",
      "userId": "15884098855672591122"
     },
     "user_tz": -330
    },
    "id": "Q-964-BPtjSS",
    "outputId": "5008a579-56bb-4117-9373-2918e30d75b3"
   },
   "outputs": [
    {
     "ename": "FileNotFoundError",
     "evalue": "[Errno 2] No such file or directory: '/Users/zeelpatel/Desktop/Ineuron/Restaurant\\\\ Rating\\\\ Prediction/notebook/data/cleaned_zomato_data.csv'",
     "output_type": "error",
     "traceback": [
      "\u001b[0;31m---------------------------------------------------------------------------\u001b[0m",
      "\u001b[0;31mFileNotFoundError\u001b[0m                         Traceback (most recent call last)",
      "Cell \u001b[0;32mIn[3], line 1\u001b[0m\n\u001b[0;32m----> 1\u001b[0m data\u001b[38;5;241m=\u001b[39mpd\u001b[38;5;241m.\u001b[39mread_csv(\u001b[38;5;124m\"\u001b[39m\u001b[38;5;124m/Users/zeelpatel/Desktop/Ineuron/Restaurant\u001b[39m\u001b[38;5;124m\\\u001b[39m\u001b[38;5;124m Rating\u001b[39m\u001b[38;5;124m\\\u001b[39m\u001b[38;5;124m Prediction/notebook/data/cleaned_zomato_data.csv\u001b[39m\u001b[38;5;124m\"\u001b[39m)\n\u001b[1;32m      2\u001b[0m data\u001b[38;5;241m.\u001b[39mhead()\n",
      "File \u001b[0;32m~/anaconda3/lib/python3.11/site-packages/pandas/io/parsers/readers.py:912\u001b[0m, in \u001b[0;36mread_csv\u001b[0;34m(filepath_or_buffer, sep, delimiter, header, names, index_col, usecols, dtype, engine, converters, true_values, false_values, skipinitialspace, skiprows, skipfooter, nrows, na_values, keep_default_na, na_filter, verbose, skip_blank_lines, parse_dates, infer_datetime_format, keep_date_col, date_parser, date_format, dayfirst, cache_dates, iterator, chunksize, compression, thousands, decimal, lineterminator, quotechar, quoting, doublequote, escapechar, comment, encoding, encoding_errors, dialect, on_bad_lines, delim_whitespace, low_memory, memory_map, float_precision, storage_options, dtype_backend)\u001b[0m\n\u001b[1;32m    899\u001b[0m kwds_defaults \u001b[38;5;241m=\u001b[39m _refine_defaults_read(\n\u001b[1;32m    900\u001b[0m     dialect,\n\u001b[1;32m    901\u001b[0m     delimiter,\n\u001b[0;32m   (...)\u001b[0m\n\u001b[1;32m    908\u001b[0m     dtype_backend\u001b[38;5;241m=\u001b[39mdtype_backend,\n\u001b[1;32m    909\u001b[0m )\n\u001b[1;32m    910\u001b[0m kwds\u001b[38;5;241m.\u001b[39mupdate(kwds_defaults)\n\u001b[0;32m--> 912\u001b[0m \u001b[38;5;28;01mreturn\u001b[39;00m _read(filepath_or_buffer, kwds)\n",
      "File \u001b[0;32m~/anaconda3/lib/python3.11/site-packages/pandas/io/parsers/readers.py:577\u001b[0m, in \u001b[0;36m_read\u001b[0;34m(filepath_or_buffer, kwds)\u001b[0m\n\u001b[1;32m    574\u001b[0m _validate_names(kwds\u001b[38;5;241m.\u001b[39mget(\u001b[38;5;124m\"\u001b[39m\u001b[38;5;124mnames\u001b[39m\u001b[38;5;124m\"\u001b[39m, \u001b[38;5;28;01mNone\u001b[39;00m))\n\u001b[1;32m    576\u001b[0m \u001b[38;5;66;03m# Create the parser.\u001b[39;00m\n\u001b[0;32m--> 577\u001b[0m parser \u001b[38;5;241m=\u001b[39m TextFileReader(filepath_or_buffer, \u001b[38;5;241m*\u001b[39m\u001b[38;5;241m*\u001b[39mkwds)\n\u001b[1;32m    579\u001b[0m \u001b[38;5;28;01mif\u001b[39;00m chunksize \u001b[38;5;129;01mor\u001b[39;00m iterator:\n\u001b[1;32m    580\u001b[0m     \u001b[38;5;28;01mreturn\u001b[39;00m parser\n",
      "File \u001b[0;32m~/anaconda3/lib/python3.11/site-packages/pandas/io/parsers/readers.py:1407\u001b[0m, in \u001b[0;36mTextFileReader.__init__\u001b[0;34m(self, f, engine, **kwds)\u001b[0m\n\u001b[1;32m   1404\u001b[0m     \u001b[38;5;28mself\u001b[39m\u001b[38;5;241m.\u001b[39moptions[\u001b[38;5;124m\"\u001b[39m\u001b[38;5;124mhas_index_names\u001b[39m\u001b[38;5;124m\"\u001b[39m] \u001b[38;5;241m=\u001b[39m kwds[\u001b[38;5;124m\"\u001b[39m\u001b[38;5;124mhas_index_names\u001b[39m\u001b[38;5;124m\"\u001b[39m]\n\u001b[1;32m   1406\u001b[0m \u001b[38;5;28mself\u001b[39m\u001b[38;5;241m.\u001b[39mhandles: IOHandles \u001b[38;5;241m|\u001b[39m \u001b[38;5;28;01mNone\u001b[39;00m \u001b[38;5;241m=\u001b[39m \u001b[38;5;28;01mNone\u001b[39;00m\n\u001b[0;32m-> 1407\u001b[0m \u001b[38;5;28mself\u001b[39m\u001b[38;5;241m.\u001b[39m_engine \u001b[38;5;241m=\u001b[39m \u001b[38;5;28mself\u001b[39m\u001b[38;5;241m.\u001b[39m_make_engine(f, \u001b[38;5;28mself\u001b[39m\u001b[38;5;241m.\u001b[39mengine)\n",
      "File \u001b[0;32m~/anaconda3/lib/python3.11/site-packages/pandas/io/parsers/readers.py:1661\u001b[0m, in \u001b[0;36mTextFileReader._make_engine\u001b[0;34m(self, f, engine)\u001b[0m\n\u001b[1;32m   1659\u001b[0m     \u001b[38;5;28;01mif\u001b[39;00m \u001b[38;5;124m\"\u001b[39m\u001b[38;5;124mb\u001b[39m\u001b[38;5;124m\"\u001b[39m \u001b[38;5;129;01mnot\u001b[39;00m \u001b[38;5;129;01min\u001b[39;00m mode:\n\u001b[1;32m   1660\u001b[0m         mode \u001b[38;5;241m+\u001b[39m\u001b[38;5;241m=\u001b[39m \u001b[38;5;124m\"\u001b[39m\u001b[38;5;124mb\u001b[39m\u001b[38;5;124m\"\u001b[39m\n\u001b[0;32m-> 1661\u001b[0m \u001b[38;5;28mself\u001b[39m\u001b[38;5;241m.\u001b[39mhandles \u001b[38;5;241m=\u001b[39m get_handle(\n\u001b[1;32m   1662\u001b[0m     f,\n\u001b[1;32m   1663\u001b[0m     mode,\n\u001b[1;32m   1664\u001b[0m     encoding\u001b[38;5;241m=\u001b[39m\u001b[38;5;28mself\u001b[39m\u001b[38;5;241m.\u001b[39moptions\u001b[38;5;241m.\u001b[39mget(\u001b[38;5;124m\"\u001b[39m\u001b[38;5;124mencoding\u001b[39m\u001b[38;5;124m\"\u001b[39m, \u001b[38;5;28;01mNone\u001b[39;00m),\n\u001b[1;32m   1665\u001b[0m     compression\u001b[38;5;241m=\u001b[39m\u001b[38;5;28mself\u001b[39m\u001b[38;5;241m.\u001b[39moptions\u001b[38;5;241m.\u001b[39mget(\u001b[38;5;124m\"\u001b[39m\u001b[38;5;124mcompression\u001b[39m\u001b[38;5;124m\"\u001b[39m, \u001b[38;5;28;01mNone\u001b[39;00m),\n\u001b[1;32m   1666\u001b[0m     memory_map\u001b[38;5;241m=\u001b[39m\u001b[38;5;28mself\u001b[39m\u001b[38;5;241m.\u001b[39moptions\u001b[38;5;241m.\u001b[39mget(\u001b[38;5;124m\"\u001b[39m\u001b[38;5;124mmemory_map\u001b[39m\u001b[38;5;124m\"\u001b[39m, \u001b[38;5;28;01mFalse\u001b[39;00m),\n\u001b[1;32m   1667\u001b[0m     is_text\u001b[38;5;241m=\u001b[39mis_text,\n\u001b[1;32m   1668\u001b[0m     errors\u001b[38;5;241m=\u001b[39m\u001b[38;5;28mself\u001b[39m\u001b[38;5;241m.\u001b[39moptions\u001b[38;5;241m.\u001b[39mget(\u001b[38;5;124m\"\u001b[39m\u001b[38;5;124mencoding_errors\u001b[39m\u001b[38;5;124m\"\u001b[39m, \u001b[38;5;124m\"\u001b[39m\u001b[38;5;124mstrict\u001b[39m\u001b[38;5;124m\"\u001b[39m),\n\u001b[1;32m   1669\u001b[0m     storage_options\u001b[38;5;241m=\u001b[39m\u001b[38;5;28mself\u001b[39m\u001b[38;5;241m.\u001b[39moptions\u001b[38;5;241m.\u001b[39mget(\u001b[38;5;124m\"\u001b[39m\u001b[38;5;124mstorage_options\u001b[39m\u001b[38;5;124m\"\u001b[39m, \u001b[38;5;28;01mNone\u001b[39;00m),\n\u001b[1;32m   1670\u001b[0m )\n\u001b[1;32m   1671\u001b[0m \u001b[38;5;28;01massert\u001b[39;00m \u001b[38;5;28mself\u001b[39m\u001b[38;5;241m.\u001b[39mhandles \u001b[38;5;129;01mis\u001b[39;00m \u001b[38;5;129;01mnot\u001b[39;00m \u001b[38;5;28;01mNone\u001b[39;00m\n\u001b[1;32m   1672\u001b[0m f \u001b[38;5;241m=\u001b[39m \u001b[38;5;28mself\u001b[39m\u001b[38;5;241m.\u001b[39mhandles\u001b[38;5;241m.\u001b[39mhandle\n",
      "File \u001b[0;32m~/anaconda3/lib/python3.11/site-packages/pandas/io/common.py:859\u001b[0m, in \u001b[0;36mget_handle\u001b[0;34m(path_or_buf, mode, encoding, compression, memory_map, is_text, errors, storage_options)\u001b[0m\n\u001b[1;32m    854\u001b[0m \u001b[38;5;28;01melif\u001b[39;00m \u001b[38;5;28misinstance\u001b[39m(handle, \u001b[38;5;28mstr\u001b[39m):\n\u001b[1;32m    855\u001b[0m     \u001b[38;5;66;03m# Check whether the filename is to be opened in binary mode.\u001b[39;00m\n\u001b[1;32m    856\u001b[0m     \u001b[38;5;66;03m# Binary mode does not support 'encoding' and 'newline'.\u001b[39;00m\n\u001b[1;32m    857\u001b[0m     \u001b[38;5;28;01mif\u001b[39;00m ioargs\u001b[38;5;241m.\u001b[39mencoding \u001b[38;5;129;01mand\u001b[39;00m \u001b[38;5;124m\"\u001b[39m\u001b[38;5;124mb\u001b[39m\u001b[38;5;124m\"\u001b[39m \u001b[38;5;129;01mnot\u001b[39;00m \u001b[38;5;129;01min\u001b[39;00m ioargs\u001b[38;5;241m.\u001b[39mmode:\n\u001b[1;32m    858\u001b[0m         \u001b[38;5;66;03m# Encoding\u001b[39;00m\n\u001b[0;32m--> 859\u001b[0m         handle \u001b[38;5;241m=\u001b[39m \u001b[38;5;28mopen\u001b[39m(\n\u001b[1;32m    860\u001b[0m             handle,\n\u001b[1;32m    861\u001b[0m             ioargs\u001b[38;5;241m.\u001b[39mmode,\n\u001b[1;32m    862\u001b[0m             encoding\u001b[38;5;241m=\u001b[39mioargs\u001b[38;5;241m.\u001b[39mencoding,\n\u001b[1;32m    863\u001b[0m             errors\u001b[38;5;241m=\u001b[39merrors,\n\u001b[1;32m    864\u001b[0m             newline\u001b[38;5;241m=\u001b[39m\u001b[38;5;124m\"\u001b[39m\u001b[38;5;124m\"\u001b[39m,\n\u001b[1;32m    865\u001b[0m         )\n\u001b[1;32m    866\u001b[0m     \u001b[38;5;28;01melse\u001b[39;00m:\n\u001b[1;32m    867\u001b[0m         \u001b[38;5;66;03m# Binary mode\u001b[39;00m\n\u001b[1;32m    868\u001b[0m         handle \u001b[38;5;241m=\u001b[39m \u001b[38;5;28mopen\u001b[39m(handle, ioargs\u001b[38;5;241m.\u001b[39mmode)\n",
      "\u001b[0;31mFileNotFoundError\u001b[0m: [Errno 2] No such file or directory: '/Users/zeelpatel/Desktop/Ineuron/Restaurant\\\\ Rating\\\\ Prediction/notebook/data/cleaned_zomato_data.csv'"
     ]
    }
   ],
   "source": [
    "data=pd.read_csv(\"/Users/zeelpatel/Desktop/Ineuron/Restaurant\\ Rating\\ Prediction/notebook/data/cleaned_zomato_data.csv\")\n",
    "data.head()"
   ]
  },
  {
   "cell_type": "code",
   "execution_count": 3,
   "metadata": {
    "colab": {
     "base_uri": "https://localhost:8080/"
    },
    "executionInfo": {
     "elapsed": 22,
     "status": "ok",
     "timestamp": 1698231087900,
     "user": {
      "displayName": "Zeel Patel",
      "userId": "15884098855672591122"
     },
     "user_tz": -330
    },
    "id": "vb3YY3us2l7N",
    "outputId": "82b3a9e7-e8ac-48e2-e2f5-b761072d9f7d"
   },
   "outputs": [
    {
     "data": {
      "text/plain": [
       "(51717, 17)"
      ]
     },
     "execution_count": 3,
     "metadata": {},
     "output_type": "execute_result"
    }
   ],
   "source": [
    "data.shape"
   ]
  },
  {
   "cell_type": "code",
   "execution_count": 4,
   "metadata": {
    "colab": {
     "base_uri": "https://localhost:8080/"
    },
    "executionInfo": {
     "elapsed": 15,
     "status": "ok",
     "timestamp": 1698231087901,
     "user": {
      "displayName": "Zeel Patel",
      "userId": "15884098855672591122"
     },
     "user_tz": -330
    },
    "id": "_vB58Yv92oJr",
    "outputId": "188a0f91-2c69-4d7e-eb70-4bad8c42f9b2"
   },
   "outputs": [
    {
     "name": "stdout",
     "output_type": "stream",
     "text": [
      "<class 'pandas.core.frame.DataFrame'>\n",
      "RangeIndex: 51717 entries, 0 to 51716\n",
      "Data columns (total 17 columns):\n",
      " #   Column                       Non-Null Count  Dtype \n",
      "---  ------                       --------------  ----- \n",
      " 0   url                          51717 non-null  object\n",
      " 1   address                      51717 non-null  object\n",
      " 2   name                         51717 non-null  object\n",
      " 3   online_order                 51717 non-null  object\n",
      " 4   book_table                   51717 non-null  object\n",
      " 5   rate                         43942 non-null  object\n",
      " 6   votes                        51717 non-null  int64 \n",
      " 7   phone                        50509 non-null  object\n",
      " 8   location                     51696 non-null  object\n",
      " 9   rest_type                    51490 non-null  object\n",
      " 10  dish_liked                   23639 non-null  object\n",
      " 11  cuisines                     51672 non-null  object\n",
      " 12  approx_cost(for two people)  51371 non-null  object\n",
      " 13  reviews_list                 51717 non-null  object\n",
      " 14  menu_item                    51717 non-null  object\n",
      " 15  listed_in(type)              51717 non-null  object\n",
      " 16  listed_in(city)              51717 non-null  object\n",
      "dtypes: int64(1), object(16)\n",
      "memory usage: 6.7+ MB\n"
     ]
    }
   ],
   "source": [
    "data.info()"
   ]
  },
  {
   "cell_type": "code",
   "execution_count": 5,
   "metadata": {
    "executionInfo": {
     "elapsed": 10,
     "status": "ok",
     "timestamp": 1698231087901,
     "user": {
      "displayName": "Zeel Patel",
      "userId": "15884098855672591122"
     },
     "user_tz": -330
    },
    "id": "Rdl-iFAP3HOm"
   },
   "outputs": [],
   "source": [
    "data=data.drop(columns=['url','address','name','phone','menu_item','reviews_list'],axis=1)"
   ]
  },
  {
   "cell_type": "code",
   "execution_count": 6,
   "metadata": {
    "colab": {
     "base_uri": "https://localhost:8080/",
     "height": 547
    },
    "executionInfo": {
     "elapsed": 10,
     "status": "ok",
     "timestamp": 1698231087901,
     "user": {
      "displayName": "Zeel Patel",
      "userId": "15884098855672591122"
     },
     "user_tz": -330
    },
    "id": "jAg9eDju3JuT",
    "outputId": "7d27d342-6341-4e3b-96b7-eaecb3208680"
   },
   "outputs": [
    {
     "data": {
      "text/html": [
       "\n",
       "  <div id=\"df-07e956d7-64af-4168-8031-951a141e5eb2\" class=\"colab-df-container\">\n",
       "    <div>\n",
       "<style scoped>\n",
       "    .dataframe tbody tr th:only-of-type {\n",
       "        vertical-align: middle;\n",
       "    }\n",
       "\n",
       "    .dataframe tbody tr th {\n",
       "        vertical-align: top;\n",
       "    }\n",
       "\n",
       "    .dataframe thead th {\n",
       "        text-align: right;\n",
       "    }\n",
       "</style>\n",
       "<table border=\"1\" class=\"dataframe\">\n",
       "  <thead>\n",
       "    <tr style=\"text-align: right;\">\n",
       "      <th></th>\n",
       "      <th>online_order</th>\n",
       "      <th>book_table</th>\n",
       "      <th>rate</th>\n",
       "      <th>votes</th>\n",
       "      <th>location</th>\n",
       "      <th>rest_type</th>\n",
       "      <th>dish_liked</th>\n",
       "      <th>cuisines</th>\n",
       "      <th>approx_cost(for two people)</th>\n",
       "      <th>listed_in(type)</th>\n",
       "      <th>listed_in(city)</th>\n",
       "    </tr>\n",
       "  </thead>\n",
       "  <tbody>\n",
       "    <tr>\n",
       "      <th>0</th>\n",
       "      <td>Yes</td>\n",
       "      <td>Yes</td>\n",
       "      <td>4.1/5</td>\n",
       "      <td>775</td>\n",
       "      <td>Banashankari</td>\n",
       "      <td>Casual Dining</td>\n",
       "      <td>Pasta, Lunch Buffet, Masala Papad, Paneer Laja...</td>\n",
       "      <td>North Indian, Mughlai, Chinese</td>\n",
       "      <td>800</td>\n",
       "      <td>Buffet</td>\n",
       "      <td>Banashankari</td>\n",
       "    </tr>\n",
       "    <tr>\n",
       "      <th>1</th>\n",
       "      <td>Yes</td>\n",
       "      <td>No</td>\n",
       "      <td>4.1/5</td>\n",
       "      <td>787</td>\n",
       "      <td>Banashankari</td>\n",
       "      <td>Casual Dining</td>\n",
       "      <td>Momos, Lunch Buffet, Chocolate Nirvana, Thai G...</td>\n",
       "      <td>Chinese, North Indian, Thai</td>\n",
       "      <td>800</td>\n",
       "      <td>Buffet</td>\n",
       "      <td>Banashankari</td>\n",
       "    </tr>\n",
       "    <tr>\n",
       "      <th>2</th>\n",
       "      <td>Yes</td>\n",
       "      <td>No</td>\n",
       "      <td>3.8/5</td>\n",
       "      <td>918</td>\n",
       "      <td>Banashankari</td>\n",
       "      <td>Cafe, Casual Dining</td>\n",
       "      <td>Churros, Cannelloni, Minestrone Soup, Hot Choc...</td>\n",
       "      <td>Cafe, Mexican, Italian</td>\n",
       "      <td>800</td>\n",
       "      <td>Buffet</td>\n",
       "      <td>Banashankari</td>\n",
       "    </tr>\n",
       "    <tr>\n",
       "      <th>3</th>\n",
       "      <td>No</td>\n",
       "      <td>No</td>\n",
       "      <td>3.7/5</td>\n",
       "      <td>88</td>\n",
       "      <td>Banashankari</td>\n",
       "      <td>Quick Bites</td>\n",
       "      <td>Masala Dosa</td>\n",
       "      <td>South Indian, North Indian</td>\n",
       "      <td>300</td>\n",
       "      <td>Buffet</td>\n",
       "      <td>Banashankari</td>\n",
       "    </tr>\n",
       "    <tr>\n",
       "      <th>4</th>\n",
       "      <td>No</td>\n",
       "      <td>No</td>\n",
       "      <td>3.8/5</td>\n",
       "      <td>166</td>\n",
       "      <td>Basavanagudi</td>\n",
       "      <td>Casual Dining</td>\n",
       "      <td>Panipuri, Gol Gappe</td>\n",
       "      <td>North Indian, Rajasthani</td>\n",
       "      <td>600</td>\n",
       "      <td>Buffet</td>\n",
       "      <td>Banashankari</td>\n",
       "    </tr>\n",
       "  </tbody>\n",
       "</table>\n",
       "</div>\n",
       "    <div class=\"colab-df-buttons\">\n",
       "\n",
       "  <div class=\"colab-df-container\">\n",
       "    <button class=\"colab-df-convert\" onclick=\"convertToInteractive('df-07e956d7-64af-4168-8031-951a141e5eb2')\"\n",
       "            title=\"Convert this dataframe to an interactive table.\"\n",
       "            style=\"display:none;\">\n",
       "\n",
       "  <svg xmlns=\"http://www.w3.org/2000/svg\" height=\"24px\" viewBox=\"0 -960 960 960\">\n",
       "    <path d=\"M120-120v-720h720v720H120Zm60-500h600v-160H180v160Zm220 220h160v-160H400v160Zm0 220h160v-160H400v160ZM180-400h160v-160H180v160Zm440 0h160v-160H620v160ZM180-180h160v-160H180v160Zm440 0h160v-160H620v160Z\"/>\n",
       "  </svg>\n",
       "    </button>\n",
       "\n",
       "  <style>\n",
       "    .colab-df-container {\n",
       "      display:flex;\n",
       "      gap: 12px;\n",
       "    }\n",
       "\n",
       "    .colab-df-convert {\n",
       "      background-color: #E8F0FE;\n",
       "      border: none;\n",
       "      border-radius: 50%;\n",
       "      cursor: pointer;\n",
       "      display: none;\n",
       "      fill: #1967D2;\n",
       "      height: 32px;\n",
       "      padding: 0 0 0 0;\n",
       "      width: 32px;\n",
       "    }\n",
       "\n",
       "    .colab-df-convert:hover {\n",
       "      background-color: #E2EBFA;\n",
       "      box-shadow: 0px 1px 2px rgba(60, 64, 67, 0.3), 0px 1px 3px 1px rgba(60, 64, 67, 0.15);\n",
       "      fill: #174EA6;\n",
       "    }\n",
       "\n",
       "    .colab-df-buttons div {\n",
       "      margin-bottom: 4px;\n",
       "    }\n",
       "\n",
       "    [theme=dark] .colab-df-convert {\n",
       "      background-color: #3B4455;\n",
       "      fill: #D2E3FC;\n",
       "    }\n",
       "\n",
       "    [theme=dark] .colab-df-convert:hover {\n",
       "      background-color: #434B5C;\n",
       "      box-shadow: 0px 1px 3px 1px rgba(0, 0, 0, 0.15);\n",
       "      filter: drop-shadow(0px 1px 2px rgba(0, 0, 0, 0.3));\n",
       "      fill: #FFFFFF;\n",
       "    }\n",
       "  </style>\n",
       "\n",
       "    <script>\n",
       "      const buttonEl =\n",
       "        document.querySelector('#df-07e956d7-64af-4168-8031-951a141e5eb2 button.colab-df-convert');\n",
       "      buttonEl.style.display =\n",
       "        google.colab.kernel.accessAllowed ? 'block' : 'none';\n",
       "\n",
       "      async function convertToInteractive(key) {\n",
       "        const element = document.querySelector('#df-07e956d7-64af-4168-8031-951a141e5eb2');\n",
       "        const dataTable =\n",
       "          await google.colab.kernel.invokeFunction('convertToInteractive',\n",
       "                                                    [key], {});\n",
       "        if (!dataTable) return;\n",
       "\n",
       "        const docLinkHtml = 'Like what you see? Visit the ' +\n",
       "          '<a target=\"_blank\" href=https://colab.research.google.com/notebooks/data_table.ipynb>data table notebook</a>'\n",
       "          + ' to learn more about interactive tables.';\n",
       "        element.innerHTML = '';\n",
       "        dataTable['output_type'] = 'display_data';\n",
       "        await google.colab.output.renderOutput(dataTable, element);\n",
       "        const docLink = document.createElement('div');\n",
       "        docLink.innerHTML = docLinkHtml;\n",
       "        element.appendChild(docLink);\n",
       "      }\n",
       "    </script>\n",
       "  </div>\n",
       "\n",
       "\n",
       "<div id=\"df-113cef30-50a8-4f06-b1d5-1443d77b99a6\">\n",
       "  <button class=\"colab-df-quickchart\" onclick=\"quickchart('df-113cef30-50a8-4f06-b1d5-1443d77b99a6')\"\n",
       "            title=\"Suggest charts.\"\n",
       "            style=\"display:none;\">\n",
       "\n",
       "<svg xmlns=\"http://www.w3.org/2000/svg\" height=\"24px\"viewBox=\"0 0 24 24\"\n",
       "     width=\"24px\">\n",
       "    <g>\n",
       "        <path d=\"M19 3H5c-1.1 0-2 .9-2 2v14c0 1.1.9 2 2 2h14c1.1 0 2-.9 2-2V5c0-1.1-.9-2-2-2zM9 17H7v-7h2v7zm4 0h-2V7h2v10zm4 0h-2v-4h2v4z\"/>\n",
       "    </g>\n",
       "</svg>\n",
       "  </button>\n",
       "\n",
       "<style>\n",
       "  .colab-df-quickchart {\n",
       "      --bg-color: #E8F0FE;\n",
       "      --fill-color: #1967D2;\n",
       "      --hover-bg-color: #E2EBFA;\n",
       "      --hover-fill-color: #174EA6;\n",
       "      --disabled-fill-color: #AAA;\n",
       "      --disabled-bg-color: #DDD;\n",
       "  }\n",
       "\n",
       "  [theme=dark] .colab-df-quickchart {\n",
       "      --bg-color: #3B4455;\n",
       "      --fill-color: #D2E3FC;\n",
       "      --hover-bg-color: #434B5C;\n",
       "      --hover-fill-color: #FFFFFF;\n",
       "      --disabled-bg-color: #3B4455;\n",
       "      --disabled-fill-color: #666;\n",
       "  }\n",
       "\n",
       "  .colab-df-quickchart {\n",
       "    background-color: var(--bg-color);\n",
       "    border: none;\n",
       "    border-radius: 50%;\n",
       "    cursor: pointer;\n",
       "    display: none;\n",
       "    fill: var(--fill-color);\n",
       "    height: 32px;\n",
       "    padding: 0;\n",
       "    width: 32px;\n",
       "  }\n",
       "\n",
       "  .colab-df-quickchart:hover {\n",
       "    background-color: var(--hover-bg-color);\n",
       "    box-shadow: 0 1px 2px rgba(60, 64, 67, 0.3), 0 1px 3px 1px rgba(60, 64, 67, 0.15);\n",
       "    fill: var(--button-hover-fill-color);\n",
       "  }\n",
       "\n",
       "  .colab-df-quickchart-complete:disabled,\n",
       "  .colab-df-quickchart-complete:disabled:hover {\n",
       "    background-color: var(--disabled-bg-color);\n",
       "    fill: var(--disabled-fill-color);\n",
       "    box-shadow: none;\n",
       "  }\n",
       "\n",
       "  .colab-df-spinner {\n",
       "    border: 2px solid var(--fill-color);\n",
       "    border-color: transparent;\n",
       "    border-bottom-color: var(--fill-color);\n",
       "    animation:\n",
       "      spin 1s steps(1) infinite;\n",
       "  }\n",
       "\n",
       "  @keyframes spin {\n",
       "    0% {\n",
       "      border-color: transparent;\n",
       "      border-bottom-color: var(--fill-color);\n",
       "      border-left-color: var(--fill-color);\n",
       "    }\n",
       "    20% {\n",
       "      border-color: transparent;\n",
       "      border-left-color: var(--fill-color);\n",
       "      border-top-color: var(--fill-color);\n",
       "    }\n",
       "    30% {\n",
       "      border-color: transparent;\n",
       "      border-left-color: var(--fill-color);\n",
       "      border-top-color: var(--fill-color);\n",
       "      border-right-color: var(--fill-color);\n",
       "    }\n",
       "    40% {\n",
       "      border-color: transparent;\n",
       "      border-right-color: var(--fill-color);\n",
       "      border-top-color: var(--fill-color);\n",
       "    }\n",
       "    60% {\n",
       "      border-color: transparent;\n",
       "      border-right-color: var(--fill-color);\n",
       "    }\n",
       "    80% {\n",
       "      border-color: transparent;\n",
       "      border-right-color: var(--fill-color);\n",
       "      border-bottom-color: var(--fill-color);\n",
       "    }\n",
       "    90% {\n",
       "      border-color: transparent;\n",
       "      border-bottom-color: var(--fill-color);\n",
       "    }\n",
       "  }\n",
       "</style>\n",
       "\n",
       "  <script>\n",
       "    async function quickchart(key) {\n",
       "      const quickchartButtonEl =\n",
       "        document.querySelector('#' + key + ' button');\n",
       "      quickchartButtonEl.disabled = true;  // To prevent multiple clicks.\n",
       "      quickchartButtonEl.classList.add('colab-df-spinner');\n",
       "      try {\n",
       "        const charts = await google.colab.kernel.invokeFunction(\n",
       "            'suggestCharts', [key], {});\n",
       "      } catch (error) {\n",
       "        console.error('Error during call to suggestCharts:', error);\n",
       "      }\n",
       "      quickchartButtonEl.classList.remove('colab-df-spinner');\n",
       "      quickchartButtonEl.classList.add('colab-df-quickchart-complete');\n",
       "    }\n",
       "    (() => {\n",
       "      let quickchartButtonEl =\n",
       "        document.querySelector('#df-113cef30-50a8-4f06-b1d5-1443d77b99a6 button');\n",
       "      quickchartButtonEl.style.display =\n",
       "        google.colab.kernel.accessAllowed ? 'block' : 'none';\n",
       "    })();\n",
       "  </script>\n",
       "</div>\n",
       "    </div>\n",
       "  </div>\n"
      ],
      "text/plain": [
       "  online_order book_table   rate  votes      location            rest_type  \\\n",
       "0          Yes        Yes  4.1/5    775  Banashankari        Casual Dining   \n",
       "1          Yes         No  4.1/5    787  Banashankari        Casual Dining   \n",
       "2          Yes         No  3.8/5    918  Banashankari  Cafe, Casual Dining   \n",
       "3           No         No  3.7/5     88  Banashankari          Quick Bites   \n",
       "4           No         No  3.8/5    166  Basavanagudi        Casual Dining   \n",
       "\n",
       "                                          dish_liked  \\\n",
       "0  Pasta, Lunch Buffet, Masala Papad, Paneer Laja...   \n",
       "1  Momos, Lunch Buffet, Chocolate Nirvana, Thai G...   \n",
       "2  Churros, Cannelloni, Minestrone Soup, Hot Choc...   \n",
       "3                                        Masala Dosa   \n",
       "4                                Panipuri, Gol Gappe   \n",
       "\n",
       "                         cuisines approx_cost(for two people) listed_in(type)  \\\n",
       "0  North Indian, Mughlai, Chinese                         800          Buffet   \n",
       "1     Chinese, North Indian, Thai                         800          Buffet   \n",
       "2          Cafe, Mexican, Italian                         800          Buffet   \n",
       "3      South Indian, North Indian                         300          Buffet   \n",
       "4        North Indian, Rajasthani                         600          Buffet   \n",
       "\n",
       "  listed_in(city)  \n",
       "0    Banashankari  \n",
       "1    Banashankari  \n",
       "2    Banashankari  \n",
       "3    Banashankari  \n",
       "4    Banashankari  "
      ]
     },
     "execution_count": 6,
     "metadata": {},
     "output_type": "execute_result"
    }
   ],
   "source": [
    "data.head()"
   ]
  },
  {
   "cell_type": "code",
   "execution_count": 7,
   "metadata": {
    "colab": {
     "base_uri": "https://localhost:8080/"
    },
    "executionInfo": {
     "elapsed": 7,
     "status": "ok",
     "timestamp": 1698231118652,
     "user": {
      "displayName": "Zeel Patel",
      "userId": "15884098855672591122"
     },
     "user_tz": -330
    },
    "id": "kEud78wE3lh0",
    "outputId": "86cbc779-27ad-4dd0-f070-ec3d793cea73"
   },
   "outputs": [
    {
     "data": {
      "text/plain": [
       "online_order                       0\n",
       "book_table                         0\n",
       "rate                            7775\n",
       "votes                              0\n",
       "location                          21\n",
       "rest_type                        227\n",
       "dish_liked                     28078\n",
       "cuisines                          45\n",
       "approx_cost(for two people)      346\n",
       "listed_in(type)                    0\n",
       "listed_in(city)                    0\n",
       "dtype: int64"
      ]
     },
     "execution_count": 7,
     "metadata": {},
     "output_type": "execute_result"
    }
   ],
   "source": [
    "data.isnull().sum()"
   ]
  },
  {
   "cell_type": "code",
   "execution_count": 8,
   "metadata": {
    "executionInfo": {
     "elapsed": 1300,
     "status": "ok",
     "timestamp": 1698231259913,
     "user": {
      "displayName": "Zeel Patel",
      "userId": "15884098855672591122"
     },
     "user_tz": -330
    },
    "id": "itmHbTbw3rwK"
   },
   "outputs": [],
   "source": [
    "data.rename(columns={'listed_in(type)':'listed_type','listed_in(city)':'city'},inplace=True)"
   ]
  },
  {
   "cell_type": "code",
   "execution_count": 9,
   "metadata": {
    "executionInfo": {
     "elapsed": 414,
     "status": "ok",
     "timestamp": 1698231298612,
     "user": {
      "displayName": "Zeel Patel",
      "userId": "15884098855672591122"
     },
     "user_tz": -330
    },
    "id": "a8ONWGTaeIf7"
   },
   "outputs": [],
   "source": [
    "data = data.dropna(axis = 0, how='any', subset=['location','rest_type','cuisines', 'approx_cost(for two people)'])"
   ]
  },
  {
   "cell_type": "code",
   "execution_count": 10,
   "metadata": {
    "executionInfo": {
     "elapsed": 360,
     "status": "ok",
     "timestamp": 1698231345055,
     "user": {
      "displayName": "Zeel Patel",
      "userId": "15884098855672591122"
     },
     "user_tz": -330
    },
    "id": "kB_w8fJLeSJP"
   },
   "outputs": [],
   "source": [
    "data['rate']=data['rate'].str.replace('/5','')"
   ]
  },
  {
   "cell_type": "code",
   "execution_count": 11,
   "metadata": {
    "executionInfo": {
     "elapsed": 345,
     "status": "ok",
     "timestamp": 1698231423065,
     "user": {
      "displayName": "Zeel Patel",
      "userId": "15884098855672591122"
     },
     "user_tz": -330
    },
    "id": "drfmPLFEedv4"
   },
   "outputs": [],
   "source": [
    "data['rate']=data['rate'].str.replace('NEW','')"
   ]
  },
  {
   "cell_type": "code",
   "execution_count": 12,
   "metadata": {
    "executionInfo": {
     "elapsed": 362,
     "status": "ok",
     "timestamp": 1698231433536,
     "user": {
      "displayName": "Zeel Patel",
      "userId": "15884098855672591122"
     },
     "user_tz": -330
    },
    "id": "x7zqX0YcewyB"
   },
   "outputs": [],
   "source": [
    "data['rate']=data['rate'].str.replace('-','')"
   ]
  },
  {
   "cell_type": "code",
   "execution_count": 19,
   "metadata": {
    "colab": {
     "base_uri": "https://localhost:8080/"
    },
    "executionInfo": {
     "elapsed": 375,
     "status": "ok",
     "timestamp": 1698231567232,
     "user": {
      "displayName": "Zeel Patel",
      "userId": "15884098855672591122"
     },
     "user_tz": -330
    },
    "id": "6TTM9kgIezTw",
    "outputId": "65c888d6-53b3-40df-fd03-6a0236c4dd2c"
   },
   "outputs": [
    {
     "data": {
      "text/plain": [
       "array(['4.1', '3.8', '3.7', '3.6', '4.6', '4.0', '4.2', '3.9', '3.1',\n",
       "       '3.0', '3.2', '3.3', '2.8', '4.4', '4.3', '', '2.9', '3.5', 0,\n",
       "       '2.6', '3.8 ', '3.4', '4.5', '2.5', '2.7', '4.7', '2.4', '2.2',\n",
       "       '2.3', '3.4 ', '3.6 ', '4.8', '3.9 ', '4.2 ', '4.0 ', '4.1 ',\n",
       "       '3.7 ', '3.1 ', '2.9 ', '3.3 ', '2.8 ', '3.5 ', '2.7 ', '2.5 ',\n",
       "       '3.2 ', '2.6 ', '4.5 ', '4.3 ', '4.4 ', '4.9', '2.1', '2.0', '1.8',\n",
       "       '4.6 ', '4.9 ', '3.0 ', '4.8 ', '2.3 ', '4.7 ', '2.4 ', '2.1 ',\n",
       "       '2.2 ', '2.0 ', '1.8 '], dtype=object)"
      ]
     },
     "execution_count": 19,
     "metadata": {},
     "output_type": "execute_result"
    }
   ],
   "source": [
    "data['rate'].unique()"
   ]
  },
  {
   "cell_type": "code",
   "execution_count": 18,
   "metadata": {
    "executionInfo": {
     "elapsed": 383,
     "status": "ok",
     "timestamp": 1698231563494,
     "user": {
      "displayName": "Zeel Patel",
      "userId": "15884098855672591122"
     },
     "user_tz": -330
    },
    "id": "wGVWjBBhe2u4"
   },
   "outputs": [],
   "source": [
    "data['rate']=data['rate'].fillna(0)"
   ]
  },
  {
   "cell_type": "code",
   "execution_count": 23,
   "metadata": {
    "colab": {
     "base_uri": "https://localhost:8080/"
    },
    "executionInfo": {
     "elapsed": 374,
     "status": "ok",
     "timestamp": 1698231603114,
     "user": {
      "displayName": "Zeel Patel",
      "userId": "15884098855672591122"
     },
     "user_tz": -330
    },
    "id": "roHn2pgve_l5",
    "outputId": "f65d640f-977a-4dae-fbd8-9fbfe278f680"
   },
   "outputs": [
    {
     "data": {
      "text/plain": [
       "online_order                   0\n",
       "book_table                     0\n",
       "rate                           0\n",
       "votes                          0\n",
       "location                       0\n",
       "rest_type                      0\n",
       "dish_liked                     0\n",
       "cuisines                       0\n",
       "approx_cost(for two people)    0\n",
       "listed_type                    0\n",
       "city                           0\n",
       "dtype: int64"
      ]
     },
     "execution_count": 23,
     "metadata": {},
     "output_type": "execute_result"
    }
   ],
   "source": [
    "data.isnull().sum()"
   ]
  },
  {
   "cell_type": "code",
   "execution_count": 22,
   "metadata": {
    "executionInfo": {
     "elapsed": 372,
     "status": "ok",
     "timestamp": 1698231599633,
     "user": {
      "displayName": "Zeel Patel",
      "userId": "15884098855672591122"
     },
     "user_tz": -330
    },
    "id": "QEMsHkEXfXKr"
   },
   "outputs": [],
   "source": [
    "data['dish_liked'].fillna('anything', inplace=True)"
   ]
  },
  {
   "cell_type": "code",
   "execution_count": 24,
   "metadata": {
    "executionInfo": {
     "elapsed": 468,
     "status": "ok",
     "timestamp": 1698231668492,
     "user": {
      "displayName": "Zeel Patel",
      "userId": "15884098855672591122"
     },
     "user_tz": -330
    },
    "id": "FRhOn51MfaOF"
   },
   "outputs": [],
   "source": [
    "data['approx_cost(for two people)'] = data['approx_cost(for two people)'].str.replace(',', '').astype(int)"
   ]
  },
  {
   "cell_type": "code",
   "execution_count": 27,
   "metadata": {
    "executionInfo": {
     "elapsed": 550,
     "status": "ok",
     "timestamp": 1698231780638,
     "user": {
      "displayName": "Zeel Patel",
      "userId": "15884098855672591122"
     },
     "user_tz": -330
    },
    "id": "1deFlmh-fssH"
   },
   "outputs": [],
   "source": [
    "data.rename(columns={'listed_type': 'restro type'}, inplace=True)\n",
    "data.rename(columns={'rest_type': 'restrofacility'}, inplace=True)\n",
    "data.rename(columns={'city': 'outlet location'}, inplace=True)\n",
    "data.rename(columns={'approx_cost(for two people)': 'cost for two'}, inplace=True)"
   ]
  },
  {
   "cell_type": "code",
   "execution_count": 28,
   "metadata": {
    "colab": {
     "base_uri": "https://localhost:8080/"
    },
    "executionInfo": {
     "elapsed": 381,
     "status": "ok",
     "timestamp": 1698231783101,
     "user": {
      "displayName": "Zeel Patel",
      "userId": "15884098855672591122"
     },
     "user_tz": -330
    },
    "id": "m39nTkPyf-Uh",
    "outputId": "6c46f519-bb0a-41fe-e87e-2e33bb0a05a0"
   },
   "outputs": [
    {
     "name": "stdout",
     "output_type": "stream",
     "text": [
      "<class 'pandas.core.frame.DataFrame'>\n",
      "Int64Index: 51148 entries, 0 to 51716\n",
      "Data columns (total 11 columns):\n",
      " #   Column           Non-Null Count  Dtype \n",
      "---  ------           --------------  ----- \n",
      " 0   online_order     51148 non-null  object\n",
      " 1   book_table       51148 non-null  object\n",
      " 2   rate             51148 non-null  object\n",
      " 3   votes            51148 non-null  int64 \n",
      " 4   location         51148 non-null  object\n",
      " 5   restrofacility   51148 non-null  object\n",
      " 6   dish_liked       51148 non-null  object\n",
      " 7   cuisines         51148 non-null  object\n",
      " 8   cost for two     51148 non-null  int64 \n",
      " 9   restro type      51148 non-null  object\n",
      " 10  outlet location  51148 non-null  object\n",
      "dtypes: int64(2), object(9)\n",
      "memory usage: 4.7+ MB\n"
     ]
    }
   ],
   "source": [
    "data.info()"
   ]
  },
  {
   "cell_type": "code",
   "execution_count": 29,
   "metadata": {
    "colab": {
     "base_uri": "https://localhost:8080/",
     "height": 742
    },
    "executionInfo": {
     "elapsed": 426,
     "status": "ok",
     "timestamp": 1698231881296,
     "user": {
      "displayName": "Zeel Patel",
      "userId": "15884098855672591122"
     },
     "user_tz": -330
    },
    "id": "p5P71PSOgAeh",
    "outputId": "6ae8176e-033a-4f46-e949-6da5abbb3f6e"
   },
   "outputs": [
    {
     "data": {
      "text/html": [
       "\n",
       "  <div id=\"df-da960102-8444-4bbe-9315-d1608cb787b4\" class=\"colab-df-container\">\n",
       "    <div>\n",
       "<style scoped>\n",
       "    .dataframe tbody tr th:only-of-type {\n",
       "        vertical-align: middle;\n",
       "    }\n",
       "\n",
       "    .dataframe tbody tr th {\n",
       "        vertical-align: top;\n",
       "    }\n",
       "\n",
       "    .dataframe thead th {\n",
       "        text-align: right;\n",
       "    }\n",
       "</style>\n",
       "<table border=\"1\" class=\"dataframe\">\n",
       "  <thead>\n",
       "    <tr style=\"text-align: right;\">\n",
       "      <th></th>\n",
       "      <th>online_order</th>\n",
       "      <th>book_table</th>\n",
       "      <th>rate</th>\n",
       "      <th>location</th>\n",
       "      <th>restrofacility</th>\n",
       "      <th>dish_liked</th>\n",
       "      <th>cuisines</th>\n",
       "      <th>restro type</th>\n",
       "      <th>outlet location</th>\n",
       "    </tr>\n",
       "  </thead>\n",
       "  <tbody>\n",
       "    <tr>\n",
       "      <th>0</th>\n",
       "      <td>Yes</td>\n",
       "      <td>Yes</td>\n",
       "      <td>4.1</td>\n",
       "      <td>Banashankari</td>\n",
       "      <td>Casual Dining</td>\n",
       "      <td>Pasta, Lunch Buffet, Masala Papad, Paneer Laja...</td>\n",
       "      <td>North Indian, Mughlai, Chinese</td>\n",
       "      <td>Buffet</td>\n",
       "      <td>Banashankari</td>\n",
       "    </tr>\n",
       "    <tr>\n",
       "      <th>1</th>\n",
       "      <td>Yes</td>\n",
       "      <td>No</td>\n",
       "      <td>4.1</td>\n",
       "      <td>Banashankari</td>\n",
       "      <td>Casual Dining</td>\n",
       "      <td>Momos, Lunch Buffet, Chocolate Nirvana, Thai G...</td>\n",
       "      <td>Chinese, North Indian, Thai</td>\n",
       "      <td>Buffet</td>\n",
       "      <td>Banashankari</td>\n",
       "    </tr>\n",
       "    <tr>\n",
       "      <th>2</th>\n",
       "      <td>Yes</td>\n",
       "      <td>No</td>\n",
       "      <td>3.8</td>\n",
       "      <td>Banashankari</td>\n",
       "      <td>Cafe, Casual Dining</td>\n",
       "      <td>Churros, Cannelloni, Minestrone Soup, Hot Choc...</td>\n",
       "      <td>Cafe, Mexican, Italian</td>\n",
       "      <td>Buffet</td>\n",
       "      <td>Banashankari</td>\n",
       "    </tr>\n",
       "    <tr>\n",
       "      <th>3</th>\n",
       "      <td>No</td>\n",
       "      <td>No</td>\n",
       "      <td>3.7</td>\n",
       "      <td>Banashankari</td>\n",
       "      <td>Quick Bites</td>\n",
       "      <td>Masala Dosa</td>\n",
       "      <td>South Indian, North Indian</td>\n",
       "      <td>Buffet</td>\n",
       "      <td>Banashankari</td>\n",
       "    </tr>\n",
       "    <tr>\n",
       "      <th>4</th>\n",
       "      <td>No</td>\n",
       "      <td>No</td>\n",
       "      <td>3.8</td>\n",
       "      <td>Basavanagudi</td>\n",
       "      <td>Casual Dining</td>\n",
       "      <td>Panipuri, Gol Gappe</td>\n",
       "      <td>North Indian, Rajasthani</td>\n",
       "      <td>Buffet</td>\n",
       "      <td>Banashankari</td>\n",
       "    </tr>\n",
       "    <tr>\n",
       "      <th>...</th>\n",
       "      <td>...</td>\n",
       "      <td>...</td>\n",
       "      <td>...</td>\n",
       "      <td>...</td>\n",
       "      <td>...</td>\n",
       "      <td>...</td>\n",
       "      <td>...</td>\n",
       "      <td>...</td>\n",
       "      <td>...</td>\n",
       "    </tr>\n",
       "    <tr>\n",
       "      <th>51712</th>\n",
       "      <td>No</td>\n",
       "      <td>No</td>\n",
       "      <td>3.6</td>\n",
       "      <td>Whitefield</td>\n",
       "      <td>Bar</td>\n",
       "      <td>anything</td>\n",
       "      <td>Continental</td>\n",
       "      <td>Pubs and bars</td>\n",
       "      <td>Whitefield</td>\n",
       "    </tr>\n",
       "    <tr>\n",
       "      <th>51713</th>\n",
       "      <td>No</td>\n",
       "      <td>No</td>\n",
       "      <td>0</td>\n",
       "      <td>Whitefield</td>\n",
       "      <td>Bar</td>\n",
       "      <td>anything</td>\n",
       "      <td>Finger Food</td>\n",
       "      <td>Pubs and bars</td>\n",
       "      <td>Whitefield</td>\n",
       "    </tr>\n",
       "    <tr>\n",
       "      <th>51714</th>\n",
       "      <td>No</td>\n",
       "      <td>No</td>\n",
       "      <td>0</td>\n",
       "      <td>Whitefield</td>\n",
       "      <td>Bar</td>\n",
       "      <td>anything</td>\n",
       "      <td>Finger Food</td>\n",
       "      <td>Pubs and bars</td>\n",
       "      <td>Whitefield</td>\n",
       "    </tr>\n",
       "    <tr>\n",
       "      <th>51715</th>\n",
       "      <td>No</td>\n",
       "      <td>Yes</td>\n",
       "      <td>4.3</td>\n",
       "      <td>ITPL Main Road, Whitefield</td>\n",
       "      <td>Bar</td>\n",
       "      <td>Cocktails, Pizza, Buttermilk</td>\n",
       "      <td>Finger Food</td>\n",
       "      <td>Pubs and bars</td>\n",
       "      <td>Whitefield</td>\n",
       "    </tr>\n",
       "    <tr>\n",
       "      <th>51716</th>\n",
       "      <td>No</td>\n",
       "      <td>No</td>\n",
       "      <td>3.4</td>\n",
       "      <td>ITPL Main Road, Whitefield</td>\n",
       "      <td>Bar, Casual Dining</td>\n",
       "      <td>anything</td>\n",
       "      <td>Finger Food, North Indian, Continental</td>\n",
       "      <td>Pubs and bars</td>\n",
       "      <td>Whitefield</td>\n",
       "    </tr>\n",
       "  </tbody>\n",
       "</table>\n",
       "<p>51148 rows × 9 columns</p>\n",
       "</div>\n",
       "    <div class=\"colab-df-buttons\">\n",
       "\n",
       "  <div class=\"colab-df-container\">\n",
       "    <button class=\"colab-df-convert\" onclick=\"convertToInteractive('df-da960102-8444-4bbe-9315-d1608cb787b4')\"\n",
       "            title=\"Convert this dataframe to an interactive table.\"\n",
       "            style=\"display:none;\">\n",
       "\n",
       "  <svg xmlns=\"http://www.w3.org/2000/svg\" height=\"24px\" viewBox=\"0 -960 960 960\">\n",
       "    <path d=\"M120-120v-720h720v720H120Zm60-500h600v-160H180v160Zm220 220h160v-160H400v160Zm0 220h160v-160H400v160ZM180-400h160v-160H180v160Zm440 0h160v-160H620v160ZM180-180h160v-160H180v160Zm440 0h160v-160H620v160Z\"/>\n",
       "  </svg>\n",
       "    </button>\n",
       "\n",
       "  <style>\n",
       "    .colab-df-container {\n",
       "      display:flex;\n",
       "      gap: 12px;\n",
       "    }\n",
       "\n",
       "    .colab-df-convert {\n",
       "      background-color: #E8F0FE;\n",
       "      border: none;\n",
       "      border-radius: 50%;\n",
       "      cursor: pointer;\n",
       "      display: none;\n",
       "      fill: #1967D2;\n",
       "      height: 32px;\n",
       "      padding: 0 0 0 0;\n",
       "      width: 32px;\n",
       "    }\n",
       "\n",
       "    .colab-df-convert:hover {\n",
       "      background-color: #E2EBFA;\n",
       "      box-shadow: 0px 1px 2px rgba(60, 64, 67, 0.3), 0px 1px 3px 1px rgba(60, 64, 67, 0.15);\n",
       "      fill: #174EA6;\n",
       "    }\n",
       "\n",
       "    .colab-df-buttons div {\n",
       "      margin-bottom: 4px;\n",
       "    }\n",
       "\n",
       "    [theme=dark] .colab-df-convert {\n",
       "      background-color: #3B4455;\n",
       "      fill: #D2E3FC;\n",
       "    }\n",
       "\n",
       "    [theme=dark] .colab-df-convert:hover {\n",
       "      background-color: #434B5C;\n",
       "      box-shadow: 0px 1px 3px 1px rgba(0, 0, 0, 0.15);\n",
       "      filter: drop-shadow(0px 1px 2px rgba(0, 0, 0, 0.3));\n",
       "      fill: #FFFFFF;\n",
       "    }\n",
       "  </style>\n",
       "\n",
       "    <script>\n",
       "      const buttonEl =\n",
       "        document.querySelector('#df-da960102-8444-4bbe-9315-d1608cb787b4 button.colab-df-convert');\n",
       "      buttonEl.style.display =\n",
       "        google.colab.kernel.accessAllowed ? 'block' : 'none';\n",
       "\n",
       "      async function convertToInteractive(key) {\n",
       "        const element = document.querySelector('#df-da960102-8444-4bbe-9315-d1608cb787b4');\n",
       "        const dataTable =\n",
       "          await google.colab.kernel.invokeFunction('convertToInteractive',\n",
       "                                                    [key], {});\n",
       "        if (!dataTable) return;\n",
       "\n",
       "        const docLinkHtml = 'Like what you see? Visit the ' +\n",
       "          '<a target=\"_blank\" href=https://colab.research.google.com/notebooks/data_table.ipynb>data table notebook</a>'\n",
       "          + ' to learn more about interactive tables.';\n",
       "        element.innerHTML = '';\n",
       "        dataTable['output_type'] = 'display_data';\n",
       "        await google.colab.output.renderOutput(dataTable, element);\n",
       "        const docLink = document.createElement('div');\n",
       "        docLink.innerHTML = docLinkHtml;\n",
       "        element.appendChild(docLink);\n",
       "      }\n",
       "    </script>\n",
       "  </div>\n",
       "\n",
       "\n",
       "<div id=\"df-f31b24d7-9729-4308-bf9a-e5845a742f7c\">\n",
       "  <button class=\"colab-df-quickchart\" onclick=\"quickchart('df-f31b24d7-9729-4308-bf9a-e5845a742f7c')\"\n",
       "            title=\"Suggest charts.\"\n",
       "            style=\"display:none;\">\n",
       "\n",
       "<svg xmlns=\"http://www.w3.org/2000/svg\" height=\"24px\"viewBox=\"0 0 24 24\"\n",
       "     width=\"24px\">\n",
       "    <g>\n",
       "        <path d=\"M19 3H5c-1.1 0-2 .9-2 2v14c0 1.1.9 2 2 2h14c1.1 0 2-.9 2-2V5c0-1.1-.9-2-2-2zM9 17H7v-7h2v7zm4 0h-2V7h2v10zm4 0h-2v-4h2v4z\"/>\n",
       "    </g>\n",
       "</svg>\n",
       "  </button>\n",
       "\n",
       "<style>\n",
       "  .colab-df-quickchart {\n",
       "      --bg-color: #E8F0FE;\n",
       "      --fill-color: #1967D2;\n",
       "      --hover-bg-color: #E2EBFA;\n",
       "      --hover-fill-color: #174EA6;\n",
       "      --disabled-fill-color: #AAA;\n",
       "      --disabled-bg-color: #DDD;\n",
       "  }\n",
       "\n",
       "  [theme=dark] .colab-df-quickchart {\n",
       "      --bg-color: #3B4455;\n",
       "      --fill-color: #D2E3FC;\n",
       "      --hover-bg-color: #434B5C;\n",
       "      --hover-fill-color: #FFFFFF;\n",
       "      --disabled-bg-color: #3B4455;\n",
       "      --disabled-fill-color: #666;\n",
       "  }\n",
       "\n",
       "  .colab-df-quickchart {\n",
       "    background-color: var(--bg-color);\n",
       "    border: none;\n",
       "    border-radius: 50%;\n",
       "    cursor: pointer;\n",
       "    display: none;\n",
       "    fill: var(--fill-color);\n",
       "    height: 32px;\n",
       "    padding: 0;\n",
       "    width: 32px;\n",
       "  }\n",
       "\n",
       "  .colab-df-quickchart:hover {\n",
       "    background-color: var(--hover-bg-color);\n",
       "    box-shadow: 0 1px 2px rgba(60, 64, 67, 0.3), 0 1px 3px 1px rgba(60, 64, 67, 0.15);\n",
       "    fill: var(--button-hover-fill-color);\n",
       "  }\n",
       "\n",
       "  .colab-df-quickchart-complete:disabled,\n",
       "  .colab-df-quickchart-complete:disabled:hover {\n",
       "    background-color: var(--disabled-bg-color);\n",
       "    fill: var(--disabled-fill-color);\n",
       "    box-shadow: none;\n",
       "  }\n",
       "\n",
       "  .colab-df-spinner {\n",
       "    border: 2px solid var(--fill-color);\n",
       "    border-color: transparent;\n",
       "    border-bottom-color: var(--fill-color);\n",
       "    animation:\n",
       "      spin 1s steps(1) infinite;\n",
       "  }\n",
       "\n",
       "  @keyframes spin {\n",
       "    0% {\n",
       "      border-color: transparent;\n",
       "      border-bottom-color: var(--fill-color);\n",
       "      border-left-color: var(--fill-color);\n",
       "    }\n",
       "    20% {\n",
       "      border-color: transparent;\n",
       "      border-left-color: var(--fill-color);\n",
       "      border-top-color: var(--fill-color);\n",
       "    }\n",
       "    30% {\n",
       "      border-color: transparent;\n",
       "      border-left-color: var(--fill-color);\n",
       "      border-top-color: var(--fill-color);\n",
       "      border-right-color: var(--fill-color);\n",
       "    }\n",
       "    40% {\n",
       "      border-color: transparent;\n",
       "      border-right-color: var(--fill-color);\n",
       "      border-top-color: var(--fill-color);\n",
       "    }\n",
       "    60% {\n",
       "      border-color: transparent;\n",
       "      border-right-color: var(--fill-color);\n",
       "    }\n",
       "    80% {\n",
       "      border-color: transparent;\n",
       "      border-right-color: var(--fill-color);\n",
       "      border-bottom-color: var(--fill-color);\n",
       "    }\n",
       "    90% {\n",
       "      border-color: transparent;\n",
       "      border-bottom-color: var(--fill-color);\n",
       "    }\n",
       "  }\n",
       "</style>\n",
       "\n",
       "  <script>\n",
       "    async function quickchart(key) {\n",
       "      const quickchartButtonEl =\n",
       "        document.querySelector('#' + key + ' button');\n",
       "      quickchartButtonEl.disabled = true;  // To prevent multiple clicks.\n",
       "      quickchartButtonEl.classList.add('colab-df-spinner');\n",
       "      try {\n",
       "        const charts = await google.colab.kernel.invokeFunction(\n",
       "            'suggestCharts', [key], {});\n",
       "      } catch (error) {\n",
       "        console.error('Error during call to suggestCharts:', error);\n",
       "      }\n",
       "      quickchartButtonEl.classList.remove('colab-df-spinner');\n",
       "      quickchartButtonEl.classList.add('colab-df-quickchart-complete');\n",
       "    }\n",
       "    (() => {\n",
       "      let quickchartButtonEl =\n",
       "        document.querySelector('#df-f31b24d7-9729-4308-bf9a-e5845a742f7c button');\n",
       "      quickchartButtonEl.style.display =\n",
       "        google.colab.kernel.accessAllowed ? 'block' : 'none';\n",
       "    })();\n",
       "  </script>\n",
       "</div>\n",
       "    </div>\n",
       "  </div>\n"
      ],
      "text/plain": [
       "      online_order book_table  rate                    location  \\\n",
       "0              Yes        Yes   4.1                Banashankari   \n",
       "1              Yes         No   4.1                Banashankari   \n",
       "2              Yes         No   3.8                Banashankari   \n",
       "3               No         No   3.7                Banashankari   \n",
       "4               No         No   3.8                Basavanagudi   \n",
       "...            ...        ...   ...                         ...   \n",
       "51712           No         No  3.6                   Whitefield   \n",
       "51713           No         No     0                  Whitefield   \n",
       "51714           No         No     0                  Whitefield   \n",
       "51715           No        Yes  4.3   ITPL Main Road, Whitefield   \n",
       "51716           No         No  3.4   ITPL Main Road, Whitefield   \n",
       "\n",
       "            restrofacility                                         dish_liked  \\\n",
       "0            Casual Dining  Pasta, Lunch Buffet, Masala Papad, Paneer Laja...   \n",
       "1            Casual Dining  Momos, Lunch Buffet, Chocolate Nirvana, Thai G...   \n",
       "2      Cafe, Casual Dining  Churros, Cannelloni, Minestrone Soup, Hot Choc...   \n",
       "3              Quick Bites                                        Masala Dosa   \n",
       "4            Casual Dining                                Panipuri, Gol Gappe   \n",
       "...                    ...                                                ...   \n",
       "51712                  Bar                                           anything   \n",
       "51713                  Bar                                           anything   \n",
       "51714                  Bar                                           anything   \n",
       "51715                  Bar                       Cocktails, Pizza, Buttermilk   \n",
       "51716   Bar, Casual Dining                                           anything   \n",
       "\n",
       "                                     cuisines    restro type outlet location  \n",
       "0              North Indian, Mughlai, Chinese         Buffet    Banashankari  \n",
       "1                 Chinese, North Indian, Thai         Buffet    Banashankari  \n",
       "2                      Cafe, Mexican, Italian         Buffet    Banashankari  \n",
       "3                  South Indian, North Indian         Buffet    Banashankari  \n",
       "4                    North Indian, Rajasthani         Buffet    Banashankari  \n",
       "...                                       ...            ...             ...  \n",
       "51712                             Continental  Pubs and bars      Whitefield  \n",
       "51713                             Finger Food  Pubs and bars      Whitefield  \n",
       "51714                             Finger Food  Pubs and bars      Whitefield  \n",
       "51715                             Finger Food  Pubs and bars      Whitefield  \n",
       "51716  Finger Food, North Indian, Continental  Pubs and bars      Whitefield  \n",
       "\n",
       "[51148 rows x 9 columns]"
      ]
     },
     "execution_count": 29,
     "metadata": {},
     "output_type": "execute_result"
    }
   ],
   "source": [
    "data.select_dtypes(include = 'object')"
   ]
  },
  {
   "cell_type": "code",
   "execution_count": 32,
   "metadata": {
    "colab": {
     "base_uri": "https://localhost:8080/"
    },
    "executionInfo": {
     "elapsed": 405,
     "status": "ok",
     "timestamp": 1698232114745,
     "user": {
      "displayName": "Zeel Patel",
      "userId": "15884098855672591122"
     },
     "user_tz": -330
    },
    "id": "DpDKcL5Hggou",
    "outputId": "b9c76bd3-babf-4202-efa7-62ecff895656"
   },
   "outputs": [
    {
     "data": {
      "text/plain": [
       "Delivery              25653\n",
       "Dine-out              17583\n",
       "Desserts               3559\n",
       "Cafes                  1703\n",
       "Drinks & nightlife     1091\n",
       "Buffet                  871\n",
       "Pubs and bars           688\n",
       "Name: restro type, dtype: int64"
      ]
     },
     "execution_count": 32,
     "metadata": {},
     "output_type": "execute_result"
    }
   ],
   "source": []
  },
  {
   "cell_type": "code",
   "execution_count": 38,
   "metadata": {
    "executionInfo": {
     "elapsed": 588,
     "status": "ok",
     "timestamp": 1698232416534,
     "user": {
      "displayName": "Zeel Patel",
      "userId": "15884098855672591122"
     },
     "user_tz": -330
    },
    "id": "MyMeolZDhTDT"
   },
   "outputs": [],
   "source": [
    "categorical_columns=data.select_dtypes(include='object').columns"
   ]
  },
  {
   "cell_type": "code",
   "execution_count": 39,
   "metadata": {
    "colab": {
     "base_uri": "https://localhost:8080/"
    },
    "executionInfo": {
     "elapsed": 10,
     "status": "ok",
     "timestamp": 1698232416873,
     "user": {
      "displayName": "Zeel Patel",
      "userId": "15884098855672591122"
     },
     "user_tz": -330
    },
    "id": "2CaYaVWyhwWQ",
    "outputId": "9244ef52-b7b4-4007-8a42-1c83a8267388"
   },
   "outputs": [
    {
     "data": {
      "text/plain": [
       "Index(['online_order', 'book_table', 'location', 'restrofacility',\n",
       "       'dish_liked', 'cuisines', 'restro type', 'outlet location'],\n",
       "      dtype='object')"
      ]
     },
     "execution_count": 39,
     "metadata": {},
     "output_type": "execute_result"
    }
   ],
   "source": [
    "categorical_columns"
   ]
  },
  {
   "cell_type": "code",
   "execution_count": 37,
   "metadata": {
    "executionInfo": {
     "elapsed": 422,
     "status": "ok",
     "timestamp": 1698232411728,
     "user": {
      "displayName": "Zeel Patel",
      "userId": "15884098855672591122"
     },
     "user_tz": -330
    },
    "id": "SzbDJlTVhxmC"
   },
   "outputs": [],
   "source": [
    "data['rate']=pd.to_numeric(data['rate'])"
   ]
  },
  {
   "cell_type": "code",
   "execution_count": 41,
   "metadata": {
    "colab": {
     "base_uri": "https://localhost:8080/",
     "height": 742
    },
    "executionInfo": {
     "elapsed": 370,
     "status": "ok",
     "timestamp": 1698232448848,
     "user": {
      "displayName": "Zeel Patel",
      "userId": "15884098855672591122"
     },
     "user_tz": -330
    },
    "id": "Gm0DVJgtik-5",
    "outputId": "f0c6ef71-b571-49dd-a017-c19f6e3c0301"
   },
   "outputs": [
    {
     "data": {
      "text/html": [
       "\n",
       "  <div id=\"df-8495a5e5-83d8-40f9-abcd-edc05735ee0c\" class=\"colab-df-container\">\n",
       "    <div>\n",
       "<style scoped>\n",
       "    .dataframe tbody tr th:only-of-type {\n",
       "        vertical-align: middle;\n",
       "    }\n",
       "\n",
       "    .dataframe tbody tr th {\n",
       "        vertical-align: top;\n",
       "    }\n",
       "\n",
       "    .dataframe thead th {\n",
       "        text-align: right;\n",
       "    }\n",
       "</style>\n",
       "<table border=\"1\" class=\"dataframe\">\n",
       "  <thead>\n",
       "    <tr style=\"text-align: right;\">\n",
       "      <th></th>\n",
       "      <th>online_order</th>\n",
       "      <th>book_table</th>\n",
       "      <th>location</th>\n",
       "      <th>restrofacility</th>\n",
       "      <th>dish_liked</th>\n",
       "      <th>cuisines</th>\n",
       "      <th>restro type</th>\n",
       "      <th>outlet location</th>\n",
       "    </tr>\n",
       "  </thead>\n",
       "  <tbody>\n",
       "    <tr>\n",
       "      <th>0</th>\n",
       "      <td>Yes</td>\n",
       "      <td>Yes</td>\n",
       "      <td>Banashankari</td>\n",
       "      <td>Casual Dining</td>\n",
       "      <td>Pasta, Lunch Buffet, Masala Papad, Paneer Laja...</td>\n",
       "      <td>North Indian, Mughlai, Chinese</td>\n",
       "      <td>Buffet</td>\n",
       "      <td>Banashankari</td>\n",
       "    </tr>\n",
       "    <tr>\n",
       "      <th>1</th>\n",
       "      <td>Yes</td>\n",
       "      <td>No</td>\n",
       "      <td>Banashankari</td>\n",
       "      <td>Casual Dining</td>\n",
       "      <td>Momos, Lunch Buffet, Chocolate Nirvana, Thai G...</td>\n",
       "      <td>Chinese, North Indian, Thai</td>\n",
       "      <td>Buffet</td>\n",
       "      <td>Banashankari</td>\n",
       "    </tr>\n",
       "    <tr>\n",
       "      <th>2</th>\n",
       "      <td>Yes</td>\n",
       "      <td>No</td>\n",
       "      <td>Banashankari</td>\n",
       "      <td>Cafe, Casual Dining</td>\n",
       "      <td>Churros, Cannelloni, Minestrone Soup, Hot Choc...</td>\n",
       "      <td>Cafe, Mexican, Italian</td>\n",
       "      <td>Buffet</td>\n",
       "      <td>Banashankari</td>\n",
       "    </tr>\n",
       "    <tr>\n",
       "      <th>3</th>\n",
       "      <td>No</td>\n",
       "      <td>No</td>\n",
       "      <td>Banashankari</td>\n",
       "      <td>Quick Bites</td>\n",
       "      <td>Masala Dosa</td>\n",
       "      <td>South Indian, North Indian</td>\n",
       "      <td>Buffet</td>\n",
       "      <td>Banashankari</td>\n",
       "    </tr>\n",
       "    <tr>\n",
       "      <th>4</th>\n",
       "      <td>No</td>\n",
       "      <td>No</td>\n",
       "      <td>Basavanagudi</td>\n",
       "      <td>Casual Dining</td>\n",
       "      <td>Panipuri, Gol Gappe</td>\n",
       "      <td>North Indian, Rajasthani</td>\n",
       "      <td>Buffet</td>\n",
       "      <td>Banashankari</td>\n",
       "    </tr>\n",
       "    <tr>\n",
       "      <th>...</th>\n",
       "      <td>...</td>\n",
       "      <td>...</td>\n",
       "      <td>...</td>\n",
       "      <td>...</td>\n",
       "      <td>...</td>\n",
       "      <td>...</td>\n",
       "      <td>...</td>\n",
       "      <td>...</td>\n",
       "    </tr>\n",
       "    <tr>\n",
       "      <th>51712</th>\n",
       "      <td>No</td>\n",
       "      <td>No</td>\n",
       "      <td>Whitefield</td>\n",
       "      <td>Bar</td>\n",
       "      <td>anything</td>\n",
       "      <td>Continental</td>\n",
       "      <td>Pubs and bars</td>\n",
       "      <td>Whitefield</td>\n",
       "    </tr>\n",
       "    <tr>\n",
       "      <th>51713</th>\n",
       "      <td>No</td>\n",
       "      <td>No</td>\n",
       "      <td>Whitefield</td>\n",
       "      <td>Bar</td>\n",
       "      <td>anything</td>\n",
       "      <td>Finger Food</td>\n",
       "      <td>Pubs and bars</td>\n",
       "      <td>Whitefield</td>\n",
       "    </tr>\n",
       "    <tr>\n",
       "      <th>51714</th>\n",
       "      <td>No</td>\n",
       "      <td>No</td>\n",
       "      <td>Whitefield</td>\n",
       "      <td>Bar</td>\n",
       "      <td>anything</td>\n",
       "      <td>Finger Food</td>\n",
       "      <td>Pubs and bars</td>\n",
       "      <td>Whitefield</td>\n",
       "    </tr>\n",
       "    <tr>\n",
       "      <th>51715</th>\n",
       "      <td>No</td>\n",
       "      <td>Yes</td>\n",
       "      <td>ITPL Main Road, Whitefield</td>\n",
       "      <td>Bar</td>\n",
       "      <td>Cocktails, Pizza, Buttermilk</td>\n",
       "      <td>Finger Food</td>\n",
       "      <td>Pubs and bars</td>\n",
       "      <td>Whitefield</td>\n",
       "    </tr>\n",
       "    <tr>\n",
       "      <th>51716</th>\n",
       "      <td>No</td>\n",
       "      <td>No</td>\n",
       "      <td>ITPL Main Road, Whitefield</td>\n",
       "      <td>Bar, Casual Dining</td>\n",
       "      <td>anything</td>\n",
       "      <td>Finger Food, North Indian, Continental</td>\n",
       "      <td>Pubs and bars</td>\n",
       "      <td>Whitefield</td>\n",
       "    </tr>\n",
       "  </tbody>\n",
       "</table>\n",
       "<p>51148 rows × 8 columns</p>\n",
       "</div>\n",
       "    <div class=\"colab-df-buttons\">\n",
       "\n",
       "  <div class=\"colab-df-container\">\n",
       "    <button class=\"colab-df-convert\" onclick=\"convertToInteractive('df-8495a5e5-83d8-40f9-abcd-edc05735ee0c')\"\n",
       "            title=\"Convert this dataframe to an interactive table.\"\n",
       "            style=\"display:none;\">\n",
       "\n",
       "  <svg xmlns=\"http://www.w3.org/2000/svg\" height=\"24px\" viewBox=\"0 -960 960 960\">\n",
       "    <path d=\"M120-120v-720h720v720H120Zm60-500h600v-160H180v160Zm220 220h160v-160H400v160Zm0 220h160v-160H400v160ZM180-400h160v-160H180v160Zm440 0h160v-160H620v160ZM180-180h160v-160H180v160Zm440 0h160v-160H620v160Z\"/>\n",
       "  </svg>\n",
       "    </button>\n",
       "\n",
       "  <style>\n",
       "    .colab-df-container {\n",
       "      display:flex;\n",
       "      gap: 12px;\n",
       "    }\n",
       "\n",
       "    .colab-df-convert {\n",
       "      background-color: #E8F0FE;\n",
       "      border: none;\n",
       "      border-radius: 50%;\n",
       "      cursor: pointer;\n",
       "      display: none;\n",
       "      fill: #1967D2;\n",
       "      height: 32px;\n",
       "      padding: 0 0 0 0;\n",
       "      width: 32px;\n",
       "    }\n",
       "\n",
       "    .colab-df-convert:hover {\n",
       "      background-color: #E2EBFA;\n",
       "      box-shadow: 0px 1px 2px rgba(60, 64, 67, 0.3), 0px 1px 3px 1px rgba(60, 64, 67, 0.15);\n",
       "      fill: #174EA6;\n",
       "    }\n",
       "\n",
       "    .colab-df-buttons div {\n",
       "      margin-bottom: 4px;\n",
       "    }\n",
       "\n",
       "    [theme=dark] .colab-df-convert {\n",
       "      background-color: #3B4455;\n",
       "      fill: #D2E3FC;\n",
       "    }\n",
       "\n",
       "    [theme=dark] .colab-df-convert:hover {\n",
       "      background-color: #434B5C;\n",
       "      box-shadow: 0px 1px 3px 1px rgba(0, 0, 0, 0.15);\n",
       "      filter: drop-shadow(0px 1px 2px rgba(0, 0, 0, 0.3));\n",
       "      fill: #FFFFFF;\n",
       "    }\n",
       "  </style>\n",
       "\n",
       "    <script>\n",
       "      const buttonEl =\n",
       "        document.querySelector('#df-8495a5e5-83d8-40f9-abcd-edc05735ee0c button.colab-df-convert');\n",
       "      buttonEl.style.display =\n",
       "        google.colab.kernel.accessAllowed ? 'block' : 'none';\n",
       "\n",
       "      async function convertToInteractive(key) {\n",
       "        const element = document.querySelector('#df-8495a5e5-83d8-40f9-abcd-edc05735ee0c');\n",
       "        const dataTable =\n",
       "          await google.colab.kernel.invokeFunction('convertToInteractive',\n",
       "                                                    [key], {});\n",
       "        if (!dataTable) return;\n",
       "\n",
       "        const docLinkHtml = 'Like what you see? Visit the ' +\n",
       "          '<a target=\"_blank\" href=https://colab.research.google.com/notebooks/data_table.ipynb>data table notebook</a>'\n",
       "          + ' to learn more about interactive tables.';\n",
       "        element.innerHTML = '';\n",
       "        dataTable['output_type'] = 'display_data';\n",
       "        await google.colab.output.renderOutput(dataTable, element);\n",
       "        const docLink = document.createElement('div');\n",
       "        docLink.innerHTML = docLinkHtml;\n",
       "        element.appendChild(docLink);\n",
       "      }\n",
       "    </script>\n",
       "  </div>\n",
       "\n",
       "\n",
       "<div id=\"df-12616fa1-edf6-4a76-8fa7-bb68b1390bb2\">\n",
       "  <button class=\"colab-df-quickchart\" onclick=\"quickchart('df-12616fa1-edf6-4a76-8fa7-bb68b1390bb2')\"\n",
       "            title=\"Suggest charts.\"\n",
       "            style=\"display:none;\">\n",
       "\n",
       "<svg xmlns=\"http://www.w3.org/2000/svg\" height=\"24px\"viewBox=\"0 0 24 24\"\n",
       "     width=\"24px\">\n",
       "    <g>\n",
       "        <path d=\"M19 3H5c-1.1 0-2 .9-2 2v14c0 1.1.9 2 2 2h14c1.1 0 2-.9 2-2V5c0-1.1-.9-2-2-2zM9 17H7v-7h2v7zm4 0h-2V7h2v10zm4 0h-2v-4h2v4z\"/>\n",
       "    </g>\n",
       "</svg>\n",
       "  </button>\n",
       "\n",
       "<style>\n",
       "  .colab-df-quickchart {\n",
       "      --bg-color: #E8F0FE;\n",
       "      --fill-color: #1967D2;\n",
       "      --hover-bg-color: #E2EBFA;\n",
       "      --hover-fill-color: #174EA6;\n",
       "      --disabled-fill-color: #AAA;\n",
       "      --disabled-bg-color: #DDD;\n",
       "  }\n",
       "\n",
       "  [theme=dark] .colab-df-quickchart {\n",
       "      --bg-color: #3B4455;\n",
       "      --fill-color: #D2E3FC;\n",
       "      --hover-bg-color: #434B5C;\n",
       "      --hover-fill-color: #FFFFFF;\n",
       "      --disabled-bg-color: #3B4455;\n",
       "      --disabled-fill-color: #666;\n",
       "  }\n",
       "\n",
       "  .colab-df-quickchart {\n",
       "    background-color: var(--bg-color);\n",
       "    border: none;\n",
       "    border-radius: 50%;\n",
       "    cursor: pointer;\n",
       "    display: none;\n",
       "    fill: var(--fill-color);\n",
       "    height: 32px;\n",
       "    padding: 0;\n",
       "    width: 32px;\n",
       "  }\n",
       "\n",
       "  .colab-df-quickchart:hover {\n",
       "    background-color: var(--hover-bg-color);\n",
       "    box-shadow: 0 1px 2px rgba(60, 64, 67, 0.3), 0 1px 3px 1px rgba(60, 64, 67, 0.15);\n",
       "    fill: var(--button-hover-fill-color);\n",
       "  }\n",
       "\n",
       "  .colab-df-quickchart-complete:disabled,\n",
       "  .colab-df-quickchart-complete:disabled:hover {\n",
       "    background-color: var(--disabled-bg-color);\n",
       "    fill: var(--disabled-fill-color);\n",
       "    box-shadow: none;\n",
       "  }\n",
       "\n",
       "  .colab-df-spinner {\n",
       "    border: 2px solid var(--fill-color);\n",
       "    border-color: transparent;\n",
       "    border-bottom-color: var(--fill-color);\n",
       "    animation:\n",
       "      spin 1s steps(1) infinite;\n",
       "  }\n",
       "\n",
       "  @keyframes spin {\n",
       "    0% {\n",
       "      border-color: transparent;\n",
       "      border-bottom-color: var(--fill-color);\n",
       "      border-left-color: var(--fill-color);\n",
       "    }\n",
       "    20% {\n",
       "      border-color: transparent;\n",
       "      border-left-color: var(--fill-color);\n",
       "      border-top-color: var(--fill-color);\n",
       "    }\n",
       "    30% {\n",
       "      border-color: transparent;\n",
       "      border-left-color: var(--fill-color);\n",
       "      border-top-color: var(--fill-color);\n",
       "      border-right-color: var(--fill-color);\n",
       "    }\n",
       "    40% {\n",
       "      border-color: transparent;\n",
       "      border-right-color: var(--fill-color);\n",
       "      border-top-color: var(--fill-color);\n",
       "    }\n",
       "    60% {\n",
       "      border-color: transparent;\n",
       "      border-right-color: var(--fill-color);\n",
       "    }\n",
       "    80% {\n",
       "      border-color: transparent;\n",
       "      border-right-color: var(--fill-color);\n",
       "      border-bottom-color: var(--fill-color);\n",
       "    }\n",
       "    90% {\n",
       "      border-color: transparent;\n",
       "      border-bottom-color: var(--fill-color);\n",
       "    }\n",
       "  }\n",
       "</style>\n",
       "\n",
       "  <script>\n",
       "    async function quickchart(key) {\n",
       "      const quickchartButtonEl =\n",
       "        document.querySelector('#' + key + ' button');\n",
       "      quickchartButtonEl.disabled = true;  // To prevent multiple clicks.\n",
       "      quickchartButtonEl.classList.add('colab-df-spinner');\n",
       "      try {\n",
       "        const charts = await google.colab.kernel.invokeFunction(\n",
       "            'suggestCharts', [key], {});\n",
       "      } catch (error) {\n",
       "        console.error('Error during call to suggestCharts:', error);\n",
       "      }\n",
       "      quickchartButtonEl.classList.remove('colab-df-spinner');\n",
       "      quickchartButtonEl.classList.add('colab-df-quickchart-complete');\n",
       "    }\n",
       "    (() => {\n",
       "      let quickchartButtonEl =\n",
       "        document.querySelector('#df-12616fa1-edf6-4a76-8fa7-bb68b1390bb2 button');\n",
       "      quickchartButtonEl.style.display =\n",
       "        google.colab.kernel.accessAllowed ? 'block' : 'none';\n",
       "    })();\n",
       "  </script>\n",
       "</div>\n",
       "    </div>\n",
       "  </div>\n"
      ],
      "text/plain": [
       "      online_order book_table                    location  \\\n",
       "0              Yes        Yes                Banashankari   \n",
       "1              Yes         No                Banashankari   \n",
       "2              Yes         No                Banashankari   \n",
       "3               No         No                Banashankari   \n",
       "4               No         No                Basavanagudi   \n",
       "...            ...        ...                         ...   \n",
       "51712           No         No                  Whitefield   \n",
       "51713           No         No                  Whitefield   \n",
       "51714           No         No                  Whitefield   \n",
       "51715           No        Yes  ITPL Main Road, Whitefield   \n",
       "51716           No         No  ITPL Main Road, Whitefield   \n",
       "\n",
       "            restrofacility                                         dish_liked  \\\n",
       "0            Casual Dining  Pasta, Lunch Buffet, Masala Papad, Paneer Laja...   \n",
       "1            Casual Dining  Momos, Lunch Buffet, Chocolate Nirvana, Thai G...   \n",
       "2      Cafe, Casual Dining  Churros, Cannelloni, Minestrone Soup, Hot Choc...   \n",
       "3              Quick Bites                                        Masala Dosa   \n",
       "4            Casual Dining                                Panipuri, Gol Gappe   \n",
       "...                    ...                                                ...   \n",
       "51712                  Bar                                           anything   \n",
       "51713                  Bar                                           anything   \n",
       "51714                  Bar                                           anything   \n",
       "51715                  Bar                       Cocktails, Pizza, Buttermilk   \n",
       "51716   Bar, Casual Dining                                           anything   \n",
       "\n",
       "                                     cuisines    restro type outlet location  \n",
       "0              North Indian, Mughlai, Chinese         Buffet    Banashankari  \n",
       "1                 Chinese, North Indian, Thai         Buffet    Banashankari  \n",
       "2                      Cafe, Mexican, Italian         Buffet    Banashankari  \n",
       "3                  South Indian, North Indian         Buffet    Banashankari  \n",
       "4                    North Indian, Rajasthani         Buffet    Banashankari  \n",
       "...                                       ...            ...             ...  \n",
       "51712                             Continental  Pubs and bars      Whitefield  \n",
       "51713                             Finger Food  Pubs and bars      Whitefield  \n",
       "51714                             Finger Food  Pubs and bars      Whitefield  \n",
       "51715                             Finger Food  Pubs and bars      Whitefield  \n",
       "51716  Finger Food, North Indian, Continental  Pubs and bars      Whitefield  \n",
       "\n",
       "[51148 rows x 8 columns]"
      ]
     },
     "execution_count": 41,
     "metadata": {},
     "output_type": "execute_result"
    }
   ],
   "source": [
    "data[categorical_columns]"
   ]
  },
  {
   "cell_type": "code",
   "execution_count": 42,
   "metadata": {
    "colab": {
     "base_uri": "https://localhost:8080/"
    },
    "executionInfo": {
     "elapsed": 418,
     "status": "ok",
     "timestamp": 1698232505007,
     "user": {
      "displayName": "Zeel Patel",
      "userId": "15884098855672591122"
     },
     "user_tz": -330
    },
    "id": "E1Eq-82qh61N",
    "outputId": "a7180c38-4b92-4324-ceae-046e5a46d65d"
   },
   "outputs": [
    {
     "name": "stdout",
     "output_type": "stream",
     "text": [
      "Total Unique value online_order 2\n",
      "unique values in online_order: ['Yes' 'No']\n",
      "-----------------\n",
      "Total Unique value book_table 2\n",
      "unique values in book_table: ['Yes' 'No']\n",
      "-----------------\n",
      "Total Unique value location 93\n",
      "unique values in location: ['Banashankari' 'Basavanagudi' 'Mysore Road' 'Jayanagar'\n",
      " 'Kumaraswamy Layout' 'Rajarajeshwari Nagar' 'Vijay Nagar' 'Uttarahalli'\n",
      " 'JP Nagar' 'South Bangalore' 'City Market' 'Nagarbhavi'\n",
      " 'Bannerghatta Road' 'BTM' 'Kanakapura Road' 'Bommanahalli'\n",
      " 'CV Raman Nagar' 'Electronic City' 'HSR' 'Marathahalli' 'Wilson Garden'\n",
      " 'Shanti Nagar' 'Koramangala 5th Block' 'Koramangala 8th Block'\n",
      " 'Richmond Road' 'Koramangala 7th Block' 'Jalahalli'\n",
      " 'Koramangala 4th Block' 'Bellandur' 'Sarjapur Road' 'Whitefield'\n",
      " 'East Bangalore' 'Old Airport Road' 'Indiranagar' 'Koramangala 1st Block'\n",
      " 'Frazer Town' 'RT Nagar' 'MG Road' 'Brigade Road' 'Lavelle Road'\n",
      " 'Church Street' 'Ulsoor' 'Residency Road' 'Shivajinagar' 'Infantry Road'\n",
      " 'St. Marks Road' 'Cunningham Road' 'Race Course Road' 'Commercial Street'\n",
      " 'Vasanth Nagar' 'HBR Layout' 'Domlur' 'Ejipura' 'Jeevan Bhima Nagar'\n",
      " 'Old Madras Road' 'Malleshwaram' 'Seshadripuram' 'Kammanahalli'\n",
      " 'Koramangala 6th Block' 'Majestic' 'Langford Town' 'Central Bangalore'\n",
      " 'Sanjay Nagar' 'Brookefield' 'ITPL Main Road, Whitefield'\n",
      " 'Varthur Main Road, Whitefield' 'KR Puram' 'Koramangala 2nd Block'\n",
      " 'Koramangala 3rd Block' 'Koramangala' 'Hosur Road' 'Rajajinagar'\n",
      " 'Banaswadi' 'North Bangalore' 'Nagawara' 'Hennur' 'Kalyan Nagar'\n",
      " 'New BEL Road' 'Jakkur' 'Rammurthy Nagar' 'Thippasandra' 'Kaggadasapura'\n",
      " 'Hebbal' 'Kengeri' 'Sankey Road' 'Sadashiv Nagar' 'Basaveshwara Nagar'\n",
      " 'Yeshwantpur' 'West Bangalore' 'Magadi Road' 'Yelahanka' 'Sahakara Nagar'\n",
      " 'Peenya']\n",
      "-----------------\n",
      "Total Unique value restrofacility 93\n",
      "unique values in restrofacility: ['Casual Dining' 'Cafe, Casual Dining' 'Quick Bites' 'Casual Dining, Cafe'\n",
      " 'Cafe' 'Quick Bites, Cafe' 'Cafe, Quick Bites' 'Delivery' 'Mess'\n",
      " 'Dessert Parlor' 'Bakery, Dessert Parlor' 'Pub' 'Bakery'\n",
      " 'Takeaway, Delivery' 'Fine Dining' 'Beverage Shop' 'Sweet Shop' 'Bar'\n",
      " 'Beverage Shop, Quick Bites' 'Confectionery' 'Quick Bites, Beverage Shop'\n",
      " 'Dessert Parlor, Sweet Shop' 'Bakery, Quick Bites'\n",
      " 'Sweet Shop, Quick Bites' 'Kiosk' 'Food Truck'\n",
      " 'Quick Bites, Dessert Parlor' 'Beverage Shop, Dessert Parlor' 'Takeaway'\n",
      " 'Pub, Casual Dining' 'Casual Dining, Bar' 'Dessert Parlor, Beverage Shop'\n",
      " 'Quick Bites, Bakery' 'Dessert Parlor, Quick Bites'\n",
      " 'Microbrewery, Casual Dining' 'Lounge' 'Bar, Casual Dining' 'Food Court'\n",
      " 'Cafe, Bakery' 'Dhaba' 'Quick Bites, Sweet Shop' 'Microbrewery'\n",
      " 'Food Court, Quick Bites' 'Pub, Bar' 'Casual Dining, Pub' 'Lounge, Bar'\n",
      " 'Food Court, Dessert Parlor' 'Casual Dining, Sweet Shop'\n",
      " 'Food Court, Casual Dining' 'Casual Dining, Microbrewery'\n",
      " 'Sweet Shop, Dessert Parlor' 'Bakery, Beverage Shop'\n",
      " 'Lounge, Casual Dining' 'Cafe, Food Court' 'Beverage Shop, Cafe'\n",
      " 'Cafe, Dessert Parlor' 'Dessert Parlor, Cafe' 'Dessert Parlor, Bakery'\n",
      " 'Microbrewery, Pub' 'Bakery, Food Court' 'Club' 'Quick Bites, Food Court'\n",
      " 'Bakery, Cafe' 'Bar, Cafe' 'Pub, Cafe' 'Casual Dining, Irani Cafee'\n",
      " 'Fine Dining, Lounge' 'Bar, Quick Bites' 'Bakery, Kiosk'\n",
      " 'Pub, Microbrewery' 'Microbrewery, Lounge' 'Fine Dining, Microbrewery'\n",
      " 'Fine Dining, Bar' 'Mess, Quick Bites' 'Dessert Parlor, Kiosk'\n",
      " 'Bhojanalya' 'Casual Dining, Quick Bites' 'Pop Up' 'Cafe, Bar'\n",
      " 'Casual Dining, Lounge' 'Bakery, Sweet Shop' 'Microbrewery, Bar'\n",
      " 'Cafe, Lounge' 'Bar, Pub' 'Lounge, Cafe' 'Club, Casual Dining'\n",
      " 'Quick Bites, Mess' 'Quick Bites, Meat Shop' 'Quick Bites, Kiosk'\n",
      " 'Lounge, Microbrewery' 'Food Court, Beverage Shop'\n",
      " 'Dessert Parlor, Food Court' 'Bar, Lounge']\n",
      "-----------------\n",
      "Total Unique value dish_liked 5242\n",
      "unique values in dish_liked: ['Pasta, Lunch Buffet, Masala Papad, Paneer Lajawab, Tomato Shorba, Dum Biryani, Sweet Corn Soup'\n",
      " 'Momos, Lunch Buffet, Chocolate Nirvana, Thai Green Curry, Paneer Tikka, Dum Biryani, Chicken Biryani'\n",
      " 'Churros, Cannelloni, Minestrone Soup, Hot Chocolate, Pink Sauce Pasta, Salsa, Veg Supreme Pizza'\n",
      " ...\n",
      " 'Noodles, Chicken Noodle, Momos, American Chopsuey, Salad, Manchow Soup, Manchurian'\n",
      " 'Chicken Quesadilla, Naan, Breakfast Buffet, Cheesecake, Cocktails, Lunch Buffet, Biryani'\n",
      " 'Biryani, Andhra Meal']\n",
      "-----------------\n",
      "Total Unique value cuisines 2704\n",
      "unique values in cuisines: ['North Indian, Mughlai, Chinese' 'Chinese, North Indian, Thai'\n",
      " 'Cafe, Mexican, Italian' ... 'North Indian, Street Food, Biryani'\n",
      " 'Chinese, Mughlai' 'North Indian, Chinese, Arabian, Momos']\n",
      "-----------------\n",
      "Total Unique value restro type 7\n",
      "unique values in restro type: ['Buffet' 'Cafes' 'Delivery' 'Desserts' 'Dine-out' 'Drinks & nightlife'\n",
      " 'Pubs and bars']\n",
      "-----------------\n",
      "Total Unique value outlet location 30\n",
      "unique values in outlet location: ['Banashankari' 'Bannerghatta Road' 'Basavanagudi' 'Bellandur'\n",
      " 'Brigade Road' 'Brookefield' 'BTM' 'Church Street' 'Electronic City'\n",
      " 'Frazer Town' 'HSR' 'Indiranagar' 'Jayanagar' 'JP Nagar' 'Kalyan Nagar'\n",
      " 'Kammanahalli' 'Koramangala 4th Block' 'Koramangala 5th Block'\n",
      " 'Koramangala 6th Block' 'Koramangala 7th Block' 'Lavelle Road'\n",
      " 'Malleshwaram' 'Marathahalli' 'MG Road' 'New BEL Road' 'Old Airport Road'\n",
      " 'Rajajinagar' 'Residency Road' 'Sarjapur Road' 'Whitefield']\n",
      "-----------------\n"
     ]
    }
   ],
   "source": [
    "for cols in categorical_columns:\n",
    "    unique_values = data[cols].unique()\n",
    "    unique_count = len(unique_values)\n",
    "    print( f'Total Unique value {cols}',unique_count)\n",
    "    print( f'unique values in {cols}: {unique_values}')\n",
    "    print('-----------------')"
   ]
  },
  {
   "cell_type": "code",
   "execution_count": 44,
   "metadata": {
    "executionInfo": {
     "elapsed": 393,
     "status": "ok",
     "timestamp": 1698232580049,
     "user": {
      "displayName": "Zeel Patel",
      "userId": "15884098855672591122"
     },
     "user_tz": -330
    },
    "id": "zNJeUTLzi46m"
   },
   "outputs": [],
   "source": [
    "data['online_order']=data['online_order'].replace({'Yes':1,'No':0})"
   ]
  },
  {
   "cell_type": "code",
   "execution_count": 45,
   "metadata": {
    "executionInfo": {
     "elapsed": 399,
     "status": "ok",
     "timestamp": 1698232617854,
     "user": {
      "displayName": "Zeel Patel",
      "userId": "15884098855672591122"
     },
     "user_tz": -330
    },
    "id": "U4exXz-XjIcj"
   },
   "outputs": [],
   "source": [
    "data['book_table']=data['book_table'].replace({'Yes':1,'No':0})"
   ]
  },
  {
   "cell_type": "code",
   "execution_count": 47,
   "metadata": {
    "colab": {
     "base_uri": "https://localhost:8080/"
    },
    "executionInfo": {
     "elapsed": 717,
     "status": "ok",
     "timestamp": 1698232734445,
     "user": {
      "displayName": "Zeel Patel",
      "userId": "15884098855672591122"
     },
     "user_tz": -330
    },
    "id": "cwm6FI0TjUe9",
    "outputId": "2585b74b-7f26-4fa9-f9c7-ff2966f79c9e"
   },
   "outputs": [
    {
     "data": {
      "text/plain": [
       "Quick Bites                   19046\n",
       "Casual Dining                 10273\n",
       "Cafe                           3687\n",
       "Delivery                       2578\n",
       "Dessert Parlor                 2245\n",
       "                              ...  \n",
       "Dessert Parlor, Kiosk             2\n",
       "Food Court, Beverage Shop         2\n",
       "Dessert Parlor, Food Court        2\n",
       "Quick Bites, Kiosk                1\n",
       "Sweet Shop, Dessert Parlor        1\n",
       "Name: restrofacility, Length: 93, dtype: int64"
      ]
     },
     "execution_count": 47,
     "metadata": {},
     "output_type": "execute_result"
    }
   ],
   "source": [
    "# we should not have mre than 7-8 categories , so in this case I will take the cut off as 1000\n",
    "data['restrofacility'].value_counts()"
   ]
  },
  {
   "cell_type": "code",
   "execution_count": 50,
   "metadata": {
    "colab": {
     "base_uri": "https://localhost:8080/"
    },
    "executionInfo": {
     "elapsed": 561,
     "status": "ok",
     "timestamp": 1698232903338,
     "user": {
      "displayName": "Zeel Patel",
      "userId": "15884098855672591122"
     },
     "user_tz": -330
    },
    "id": "jBgClomMju8d",
    "outputId": "6543679c-1a3d-4596-f28b-ddab0dfd5ccd"
   },
   "outputs": [
    {
     "data": {
      "text/plain": [
       "Beverage Shop                 865\n",
       "Bar                           686\n",
       "Food Court                    619\n",
       "Sweet Shop                    468\n",
       "Bar, Casual Dining            415\n",
       "                             ... \n",
       "Dessert Parlor, Kiosk           2\n",
       "Food Court, Beverage Shop       2\n",
       "Dessert Parlor, Food Court      2\n",
       "Quick Bites, Kiosk              1\n",
       "Sweet Shop, Dessert Parlor      1\n",
       "Name: restrofacility, Length: 85, dtype: int64"
      ]
     },
     "execution_count": 50,
     "metadata": {},
     "output_type": "execute_result"
    }
   ],
   "source": [
    "#create a mask for resturant types which have less than 1000 count\n",
    "rest_types_others= data['restrofacility'].value_counts()<1000\n",
    "rest_type_less_than_1000 = data['restrofacility'].value_counts()[rest_types_others]\n",
    "rest_type_less_than_1000"
   ]
  },
  {
   "cell_type": "code",
   "execution_count": 51,
   "metadata": {
    "executionInfo": {
     "elapsed": 443,
     "status": "ok",
     "timestamp": 1698232924549,
     "user": {
      "displayName": "Zeel Patel",
      "userId": "15884098855672591122"
     },
     "user_tz": -330
    },
    "id": "8K_N1Jgoj23H"
   },
   "outputs": [],
   "source": [
    "def club_rest_type(value):\n",
    "    if (value in rest_type_less_than_1000):\n",
    "        return 'other'\n",
    "    else:\n",
    "        return value"
   ]
  },
  {
   "cell_type": "code",
   "execution_count": 54,
   "metadata": {
    "executionInfo": {
     "elapsed": 413,
     "status": "ok",
     "timestamp": 1698232953321,
     "user": {
      "displayName": "Zeel Patel",
      "userId": "15884098855672591122"
     },
     "user_tz": -330
    },
    "id": "gm2ZrACxkfVn"
   },
   "outputs": [],
   "source": [
    "data['restrofacility']= data['restrofacility'].apply(club_rest_type)"
   ]
  },
  {
   "cell_type": "code",
   "execution_count": 55,
   "metadata": {
    "colab": {
     "base_uri": "https://localhost:8080/"
    },
    "executionInfo": {
     "elapsed": 425,
     "status": "ok",
     "timestamp": 1698232957929,
     "user": {
      "displayName": "Zeel Patel",
      "userId": "15884098855672591122"
     },
     "user_tz": -330
    },
    "id": "aq6fiyxNkhSA",
    "outputId": "73d4cc9e-6194-45a9-e6ed-362e777cb160"
   },
   "outputs": [
    {
     "name": "stdout",
     "output_type": "stream",
     "text": [
      "<class 'pandas.core.frame.DataFrame'>\n",
      "Int64Index: 51148 entries, 0 to 51716\n",
      "Data columns (total 12 columns):\n",
      " #   Column           Non-Null Count  Dtype  \n",
      "---  ------           --------------  -----  \n",
      " 0   online_order     51148 non-null  int64  \n",
      " 1   book_table       51148 non-null  int64  \n",
      " 2   rate             48878 non-null  float64\n",
      " 3   votes            51148 non-null  int64  \n",
      " 4   location         51148 non-null  object \n",
      " 5   restrofacility   51148 non-null  object \n",
      " 6   dish_liked       51148 non-null  object \n",
      " 7   cuisines         51148 non-null  object \n",
      " 8   cost for two     51148 non-null  int64  \n",
      " 9   restro type      51148 non-null  object \n",
      " 10  outlet location  51148 non-null  object \n",
      " 11  =restrofacility  51148 non-null  object \n",
      "dtypes: float64(1), int64(4), object(7)\n",
      "memory usage: 5.1+ MB\n"
     ]
    }
   ],
   "source": [
    "data.info()"
   ]
  },
  {
   "cell_type": "code",
   "execution_count": 57,
   "metadata": {
    "executionInfo": {
     "elapsed": 382,
     "status": "ok",
     "timestamp": 1698232990595,
     "user": {
      "displayName": "Zeel Patel",
      "userId": "15884098855672591122"
     },
     "user_tz": -330
    },
    "id": "K2OFMmDmknfu"
   },
   "outputs": [],
   "source": [
    "data.drop(columns='=restrofacility',inplace=True)"
   ]
  },
  {
   "cell_type": "code",
   "execution_count": 58,
   "metadata": {
    "colab": {
     "base_uri": "https://localhost:8080/"
    },
    "executionInfo": {
     "elapsed": 505,
     "status": "ok",
     "timestamp": 1698233013359,
     "user": {
      "displayName": "Zeel Patel",
      "userId": "15884098855672591122"
     },
     "user_tz": -330
    },
    "id": "OXf10kzHktEK",
    "outputId": "b53697a8-aa78-47b6-f523-7da013b0f1a8"
   },
   "outputs": [
    {
     "data": {
      "text/plain": [
       "BTM                      5071\n",
       "HSR                      2496\n",
       "Koramangala 5th Block    2481\n",
       "JP Nagar                 2219\n",
       "Whitefield               2109\n",
       "                         ... \n",
       "West Bangalore              6\n",
       "Yelahanka                   5\n",
       "Jakkur                      3\n",
       "Rajarajeshwari Nagar        2\n",
       "Peenya                      1\n",
       "Name: location, Length: 93, dtype: int64"
      ]
     },
     "execution_count": 58,
     "metadata": {},
     "output_type": "execute_result"
    }
   ],
   "source": [
    "data['location'].value_counts()"
   ]
  },
  {
   "cell_type": "code",
   "execution_count": 59,
   "metadata": {
    "executionInfo": {
     "elapsed": 407,
     "status": "ok",
     "timestamp": 1698233046803,
     "user": {
      "displayName": "Zeel Patel",
      "userId": "15884098855672591122"
     },
     "user_tz": -330
    },
    "id": "Q-SCZsnVk1AX"
   },
   "outputs": [],
   "source": [
    "location_less_than_1000_mask = data['location'].value_counts()<1000\n",
    "location_less_than_1000= data['location'].value_counts()[location_less_than_1000_mask]"
   ]
  },
  {
   "cell_type": "code",
   "execution_count": 60,
   "metadata": {
    "executionInfo": {
     "elapsed": 367,
     "status": "ok",
     "timestamp": 1698233053934,
     "user": {
      "displayName": "Zeel Patel",
      "userId": "15884098855672591122"
     },
     "user_tz": -330
    },
    "id": "pChZXoZGk9MT"
   },
   "outputs": [],
   "source": [
    "def location_clubbing(value):\n",
    "    if (value in location_less_than_1000):\n",
    "        return 'other'\n",
    "    else:\n",
    "        return value"
   ]
  },
  {
   "cell_type": "code",
   "execution_count": 61,
   "metadata": {
    "executionInfo": {
     "elapsed": 419,
     "status": "ok",
     "timestamp": 1698233062278,
     "user": {
      "displayName": "Zeel Patel",
      "userId": "15884098855672591122"
     },
     "user_tz": -330
    },
    "id": "4ES-fjYDk-8F"
   },
   "outputs": [],
   "source": [
    "data['location'] = data['location'].apply(location_clubbing)"
   ]
  },
  {
   "cell_type": "code",
   "execution_count": 62,
   "metadata": {
    "colab": {
     "base_uri": "https://localhost:8080/"
    },
    "executionInfo": {
     "elapsed": 342,
     "status": "ok",
     "timestamp": 1698233092055,
     "user": {
      "displayName": "Zeel Patel",
      "userId": "15884098855672591122"
     },
     "user_tz": -330
    },
    "id": "mr_z5nIzlA9a",
    "outputId": "4103ca52-d356-4534-f50a-53c661899b50"
   },
   "outputs": [
    {
     "data": {
      "text/plain": [
       "North Indian                                 2858\n",
       "North Indian, Chinese                        2355\n",
       "South Indian                                 1822\n",
       "Biryani                                       906\n",
       "Bakery, Desserts                              899\n",
       "                                             ... \n",
       "Beverages, Burger                               1\n",
       "North Indian, Mughlai, Lucknowi                 1\n",
       "Continental, Thai, North Indian, Chinese        1\n",
       "North Indian, Bengali, Chinese, Beverages       1\n",
       "North Indian, Chinese, Arabian, Momos           1\n",
       "Name: cuisines, Length: 2704, dtype: int64"
      ]
     },
     "execution_count": 62,
     "metadata": {},
     "output_type": "execute_result"
    }
   ],
   "source": [
    "data['cuisines'].value_counts()"
   ]
  },
  {
   "cell_type": "code",
   "execution_count": 66,
   "metadata": {
    "executionInfo": {
     "elapsed": 455,
     "status": "ok",
     "timestamp": 1698233146183,
     "user": {
      "displayName": "Zeel Patel",
      "userId": "15884098855672591122"
     },
     "user_tz": -330
    },
    "id": "mb53jriBlIQM"
   },
   "outputs": [],
   "source": [
    "cluster_lessthan_300 = data['cuisines'].value_counts()<300\n",
    "cuisines_lessthan_300= data['cuisines'].value_counts()[cluster_lessthan_300]"
   ]
  },
  {
   "cell_type": "code",
   "execution_count": 67,
   "metadata": {
    "executionInfo": {
     "elapsed": 4,
     "status": "ok",
     "timestamp": 1698233146847,
     "user": {
      "displayName": "Zeel Patel",
      "userId": "15884098855672591122"
     },
     "user_tz": -330
    },
    "id": "OeXUqCStlLMr"
   },
   "outputs": [],
   "source": [
    "def cuisine_clubbing(value):\n",
    "    if (value in cuisines_lessthan_300):\n",
    "        return 'other'\n",
    "    else:\n",
    "        return value"
   ]
  },
  {
   "cell_type": "code",
   "execution_count": 68,
   "metadata": {
    "executionInfo": {
     "elapsed": 3,
     "status": "ok",
     "timestamp": 1698233147212,
     "user": {
      "displayName": "Zeel Patel",
      "userId": "15884098855672591122"
     },
     "user_tz": -330
    },
    "id": "Ds3VER77lTyt"
   },
   "outputs": [],
   "source": [
    "data['cuisines']= data['cuisines'].apply(cuisine_clubbing)"
   ]
  },
  {
   "cell_type": "code",
   "execution_count": 70,
   "metadata": {
    "colab": {
     "base_uri": "https://localhost:8080/",
     "height": 597
    },
    "executionInfo": {
     "elapsed": 901,
     "status": "ok",
     "timestamp": 1698233186100,
     "user": {
      "displayName": "Zeel Patel",
      "userId": "15884098855672591122"
     },
     "user_tz": -330
    },
    "id": "AUt39zwclUGM",
    "outputId": "f7015deb-a290-4afc-e5c0-ae77c2dfc827"
   },
   "outputs": [
    {
     "data": {
      "image/png": "[encoded data removed]",
      "text/plain": [
       "<Figure size 640x480 with 1 Axes>"
      ]
     },
     "metadata": {},
     "output_type": "display_data"
    }
   ],
   "source": [
    "sns.countplot(data, x= 'location')\n",
    "plt.xticks(rotation=90)\n",
    "plt.show()"
   ]
  },
  {
   "cell_type": "code",
   "execution_count": 71,
   "metadata": {
    "colab": {
     "base_uri": "https://localhost:8080/"
    },
    "executionInfo": {
     "elapsed": 357,
     "status": "ok",
     "timestamp": 1698233251967,
     "user": {
      "displayName": "Zeel Patel",
      "userId": "15884098855672591122"
     },
     "user_tz": -330
    },
    "id": "H8qd43ZklfGG",
    "outputId": "81b5e586-d08d-4f0e-dfbf-533f2833c9e8"
   },
   "outputs": [
    {
     "name": "stdout",
     "output_type": "stream",
     "text": [
      "Total Unique value online_order 2\n",
      "unique values in online_order: [1 0]\n",
      "-----------------\n",
      "Total Unique value book_table 2\n",
      "unique values in book_table: [1 0]\n",
      "-----------------\n",
      "Total Unique value location 19\n",
      "unique values in location: ['other' 'Jayanagar' 'JP Nagar' 'Bannerghatta Road' 'BTM'\n",
      " 'Electronic City' 'HSR' 'Marathahalli' 'Koramangala 5th Block'\n",
      " 'Koramangala 7th Block' 'Koramangala 4th Block' 'Bellandur'\n",
      " 'Sarjapur Road' 'Whitefield' 'Indiranagar' 'Koramangala 1st Block'\n",
      " 'Brigade Road' 'Ulsoor' 'Koramangala 6th Block']\n",
      "-----------------\n",
      "Total Unique value restrofacility 9\n",
      "unique values in restrofacility: ['Casual Dining' 'other' 'Quick Bites' 'Cafe' 'Delivery' 'Dessert Parlor'\n",
      " 'Bakery' 'Takeaway, Delivery' 'Casual Dining, Bar']\n",
      "-----------------\n",
      "Total Unique value dish_liked 5242\n",
      "unique values in dish_liked: ['Pasta, Lunch Buffet, Masala Papad, Paneer Lajawab, Tomato Shorba, Dum Biryani, Sweet Corn Soup'\n",
      " 'Momos, Lunch Buffet, Chocolate Nirvana, Thai Green Curry, Paneer Tikka, Dum Biryani, Chicken Biryani'\n",
      " 'Churros, Cannelloni, Minestrone Soup, Hot Chocolate, Pink Sauce Pasta, Salsa, Veg Supreme Pizza'\n",
      " ...\n",
      " 'Noodles, Chicken Noodle, Momos, American Chopsuey, Salad, Manchow Soup, Manchurian'\n",
      " 'Chicken Quesadilla, Naan, Breakfast Buffet, Cheesecake, Cocktails, Lunch Buffet, Biryani'\n",
      " 'Biryani, Andhra Meal']\n",
      "-----------------\n",
      "Total Unique value cuisines 20\n",
      "unique values in cuisines: ['other' 'South Indian, North Indian' 'North Indian' 'Cafe'\n",
      " 'Bakery, Desserts' 'Biryani' 'South Indian' 'North Indian, Chinese'\n",
      " 'Ice Cream, Desserts' 'Chinese' 'Bakery' 'Fast Food'\n",
      " 'Mithai, Street Food' 'Desserts' 'South Indian, North Indian, Chinese'\n",
      " 'Chinese, North Indian' 'Desserts, Ice Cream'\n",
      " 'North Indian, Chinese, Biryani' 'North Indian, South Indian'\n",
      " 'North Indian, South Indian, Chinese']\n",
      "-----------------\n",
      "Total Unique value restro type 7\n",
      "unique values in restro type: ['Buffet' 'Cafes' 'Delivery' 'Desserts' 'Dine-out' 'Drinks & nightlife'\n",
      " 'Pubs and bars']\n",
      "-----------------\n",
      "Total Unique value outlet location 30\n",
      "unique values in outlet location: ['Banashankari' 'Bannerghatta Road' 'Basavanagudi' 'Bellandur'\n",
      " 'Brigade Road' 'Brookefield' 'BTM' 'Church Street' 'Electronic City'\n",
      " 'Frazer Town' 'HSR' 'Indiranagar' 'Jayanagar' 'JP Nagar' 'Kalyan Nagar'\n",
      " 'Kammanahalli' 'Koramangala 4th Block' 'Koramangala 5th Block'\n",
      " 'Koramangala 6th Block' 'Koramangala 7th Block' 'Lavelle Road'\n",
      " 'Malleshwaram' 'Marathahalli' 'MG Road' 'New BEL Road' 'Old Airport Road'\n",
      " 'Rajajinagar' 'Residency Road' 'Sarjapur Road' 'Whitefield']\n",
      "-----------------\n"
     ]
    }
   ],
   "source": [
    "for cols in categorical_columns:\n",
    "    unique_values = data[cols].unique()\n",
    "    unique_count = len(unique_values)\n",
    "    print( f'Total Unique value {cols}',unique_count)\n",
    "    print( f'unique values in {cols}: {unique_values}')\n",
    "    print('-----------------')"
   ]
  },
  {
   "cell_type": "code",
   "execution_count": 72,
   "metadata": {
    "colab": {
     "base_uri": "https://localhost:8080/"
    },
    "executionInfo": {
     "elapsed": 414,
     "status": "ok",
     "timestamp": 1698233296159,
     "user": {
      "displayName": "Zeel Patel",
      "userId": "15884098855672591122"
     },
     "user_tz": -330
    },
    "id": "Dahfie16lvRG",
    "outputId": "d35442fc-61e0-4c64-cdab-e33aab7c68e7"
   },
   "outputs": [
    {
     "data": {
      "text/plain": [
       "anything                                                                                              27713\n",
       "Biryani                                                                                                 181\n",
       "Chicken Biryani                                                                                          73\n",
       "Friendly Staff                                                                                           69\n",
       "Waffles                                                                                                  68\n",
       "                                                                                                      ...  \n",
       "Coffee, Chicken Sandwich, Brownie, Hot Chocolate, Cappuccino, Corn Sandwich                               1\n",
       "English Breakfast, Waffles, Chicken Sandwich, Pancakes, Pork Sausage, Eggs Benedict, Hot Chocolate        1\n",
       "Butter Chicken, Tandoori Chicken, Rolls, Chicken Masala, Chicken Tikka, Roti                              1\n",
       "Pizza, Seafood Pasta, Panna Cotta, Ravioli, Lasagne, Tiramisu, Virgin Sangria                             1\n",
       "Burgers, Chicken Burger, Chips, Veg Burger                                                                1\n",
       "Name: dish_liked, Length: 5242, dtype: int64"
      ]
     },
     "execution_count": 72,
     "metadata": {},
     "output_type": "execute_result"
    }
   ],
   "source": [
    "data['dish_liked'].value_counts()"
   ]
  },
  {
   "cell_type": "code",
   "execution_count": 73,
   "metadata": {
    "executionInfo": {
     "elapsed": 409,
     "status": "ok",
     "timestamp": 1698233348278,
     "user": {
      "displayName": "Zeel Patel",
      "userId": "15884098855672591122"
     },
     "user_tz": -330
    },
    "id": "9aBt2AF7l6Da"
   },
   "outputs": [],
   "source": [
    "data=data.drop(columns='dish_liked',axis=1)"
   ]
  },
  {
   "cell_type": "code",
   "execution_count": 75,
   "metadata": {
    "colab": {
     "base_uri": "https://localhost:8080/"
    },
    "executionInfo": {
     "elapsed": 416,
     "status": "ok",
     "timestamp": 1698233409932,
     "user": {
      "displayName": "Zeel Patel",
      "userId": "15884098855672591122"
     },
     "user_tz": -330
    },
    "id": "AgKkwYsLmGyB",
    "outputId": "5f1f89b9-6cc2-4bd4-a877-a6b689115c67"
   },
   "outputs": [
    {
     "name": "stdout",
     "output_type": "stream",
     "text": [
      "Total Unique value location 19\n",
      "unique values in location: ['other' 'Jayanagar' 'JP Nagar' 'Bannerghatta Road' 'BTM'\n",
      " 'Electronic City' 'HSR' 'Marathahalli' 'Koramangala 5th Block'\n",
      " 'Koramangala 7th Block' 'Koramangala 4th Block' 'Bellandur'\n",
      " 'Sarjapur Road' 'Whitefield' 'Indiranagar' 'Koramangala 1st Block'\n",
      " 'Brigade Road' 'Ulsoor' 'Koramangala 6th Block']\n",
      "-----------------\n",
      "Total Unique value restrofacility 9\n",
      "unique values in restrofacility: ['Casual Dining' 'other' 'Quick Bites' 'Cafe' 'Delivery' 'Dessert Parlor'\n",
      " 'Bakery' 'Takeaway, Delivery' 'Casual Dining, Bar']\n",
      "-----------------\n",
      "Total Unique value cuisines 20\n",
      "unique values in cuisines: ['other' 'South Indian, North Indian' 'North Indian' 'Cafe'\n",
      " 'Bakery, Desserts' 'Biryani' 'South Indian' 'North Indian, Chinese'\n",
      " 'Ice Cream, Desserts' 'Chinese' 'Bakery' 'Fast Food'\n",
      " 'Mithai, Street Food' 'Desserts' 'South Indian, North Indian, Chinese'\n",
      " 'Chinese, North Indian' 'Desserts, Ice Cream'\n",
      " 'North Indian, Chinese, Biryani' 'North Indian, South Indian'\n",
      " 'North Indian, South Indian, Chinese']\n",
      "-----------------\n",
      "Total Unique value restro type 7\n",
      "unique values in restro type: ['Buffet' 'Cafes' 'Delivery' 'Desserts' 'Dine-out' 'Drinks & nightlife'\n",
      " 'Pubs and bars']\n",
      "-----------------\n",
      "Total Unique value outlet location 30\n",
      "unique values in outlet location: ['Banashankari' 'Bannerghatta Road' 'Basavanagudi' 'Bellandur'\n",
      " 'Brigade Road' 'Brookefield' 'BTM' 'Church Street' 'Electronic City'\n",
      " 'Frazer Town' 'HSR' 'Indiranagar' 'Jayanagar' 'JP Nagar' 'Kalyan Nagar'\n",
      " 'Kammanahalli' 'Koramangala 4th Block' 'Koramangala 5th Block'\n",
      " 'Koramangala 6th Block' 'Koramangala 7th Block' 'Lavelle Road'\n",
      " 'Malleshwaram' 'Marathahalli' 'MG Road' 'New BEL Road' 'Old Airport Road'\n",
      " 'Rajajinagar' 'Residency Road' 'Sarjapur Road' 'Whitefield']\n",
      "-----------------\n"
     ]
    }
   ],
   "source": [
    "categorical_columns=data.select_dtypes(include='object')\n",
    "for cols in categorical_columns:\n",
    "    unique_values = data[cols].unique()\n",
    "    unique_count = len(unique_values)\n",
    "    print( f'Total Unique value {cols}',unique_count)\n",
    "    print( f'unique values in {cols}: {unique_values}')\n",
    "    print('-----------------')"
   ]
  },
  {
   "cell_type": "code",
   "execution_count": 76,
   "metadata": {
    "executionInfo": {
     "elapsed": 406,
     "status": "ok",
     "timestamp": 1698233502294,
     "user": {
      "displayName": "Zeel Patel",
      "userId": "15884098855672591122"
     },
     "user_tz": -330
    },
    "id": "_Ea52PnUmIQF"
   },
   "outputs": [],
   "source": [
    "data.drop_duplicates(inplace=True)"
   ]
  },
  {
   "cell_type": "code",
   "execution_count": 77,
   "metadata": {
    "colab": {
     "base_uri": "https://localhost:8080/"
    },
    "executionInfo": {
     "elapsed": 351,
     "status": "ok",
     "timestamp": 1698233507895,
     "user": {
      "displayName": "Zeel Patel",
      "userId": "15884098855672591122"
     },
     "user_tz": -330
    },
    "id": "LeDsrcntmsVR",
    "outputId": "6c908277-95a3-4f59-dd52-7b4d8e9c3108"
   },
   "outputs": [
    {
     "data": {
      "text/plain": [
       "(49126, 10)"
      ]
     },
     "execution_count": 77,
     "metadata": {},
     "output_type": "execute_result"
    }
   ],
   "source": [
    "data.shape"
   ]
  },
  {
   "cell_type": "code",
   "execution_count": 78,
   "metadata": {
    "colab": {
     "base_uri": "https://localhost:8080/"
    },
    "executionInfo": {
     "elapsed": 366,
     "status": "ok",
     "timestamp": 1698233667878,
     "user": {
      "displayName": "Zeel Patel",
      "userId": "15884098855672591122"
     },
     "user_tz": -330
    },
    "id": "XRRfdm-kmtyl",
    "outputId": "c10f1eed-1911-41a7-eb53-a41af15df4f3"
   },
   "outputs": [
    {
     "data": {
      "text/plain": [
       "Index(['online_order', 'book_table', 'rate', 'votes', 'location',\n",
       "       'restrofacility', 'cuisines', 'cost for two', 'restro type',\n",
       "       'outlet location'],\n",
       "      dtype='object')"
      ]
     },
     "execution_count": 78,
     "metadata": {},
     "output_type": "execute_result"
    }
   ],
   "source": [
    "data.columns"
   ]
  },
  {
   "cell_type": "code",
   "execution_count": 79,
   "metadata": {
    "executionInfo": {
     "elapsed": 457,
     "status": "ok",
     "timestamp": 1698233848351,
     "user": {
      "displayName": "Zeel Patel",
      "userId": "15884098855672591122"
     },
     "user_tz": -330
    },
    "id": "lzHrejHTnU1L"
   },
   "outputs": [],
   "source": [
    "data.reset_index(drop=True,inplace=True)"
   ]
  },
  {
   "cell_type": "code",
   "execution_count": 90,
   "metadata": {
    "colab": {
     "base_uri": "https://localhost:8080/",
     "height": 449
    },
    "executionInfo": {
     "elapsed": 630,
     "status": "ok",
     "timestamp": 1698234525472,
     "user": {
      "displayName": "Zeel Patel",
      "userId": "15884098855672591122"
     },
     "user_tz": -330
    },
    "id": "UiIzOZ8uoA3m",
    "outputId": "e34e2198-3642-496b-e66b-f9204f61bb5a"
   },
   "outputs": [
    {
     "data": {
      "image/png": "[encoded data removed]",
      "text/plain": [
       "<Figure size 640x480 with 1 Axes>"
      ]
     },
     "metadata": {},
     "output_type": "display_data"
    }
   ],
   "source": [
    "sns.scatterplot(data=data,x=data['cost for two'],y=data['rate'])\n",
    "plt.show()"
   ]
  },
  {
   "cell_type": "code",
   "execution_count": 84,
   "metadata": {
    "executionInfo": {
     "elapsed": 406,
     "status": "ok",
     "timestamp": 1698234399815,
     "user": {
      "displayName": "Zeel Patel",
      "userId": "15884098855672591122"
     },
     "user_tz": -330
    },
    "id": "F1fFPBsPoQsz"
   },
   "outputs": [],
   "source": [
    "data['rate']=data['rate'].replace('0',np.mean(data['rate']))"
   ]
  },
  {
   "cell_type": "code",
   "execution_count": 89,
   "metadata": {
    "colab": {
     "base_uri": "https://localhost:8080/"
    },
    "executionInfo": {
     "elapsed": 469,
     "status": "ok",
     "timestamp": 1698234506414,
     "user": {
      "displayName": "Zeel Patel",
      "userId": "15884098855672591122"
     },
     "user_tz": -330
    },
    "id": "fY6socqpqHgX",
    "outputId": "2a363c90-4328-41e4-b35c-3cbae2ecae59"
   },
   "outputs": [
    {
     "data": {
      "text/plain": [
       "array([4.1       , 3.8       , 3.7       , 3.6       , 4.6       ,\n",
       "       4.        , 4.2       , 3.9       , 3.1       , 3.        ,\n",
       "       3.2       , 3.3       , 2.8       , 4.4       , 4.3       ,\n",
       "       3.23238773, 2.9       , 3.5       , 0.        , 2.6       ,\n",
       "       3.4       , 4.5       , 2.5       , 2.7       , 4.7       ,\n",
       "       2.4       , 2.2       , 2.3       , 4.8       , 4.9       ,\n",
       "       2.1       , 2.        , 1.8       ])"
      ]
     },
     "execution_count": 89,
     "metadata": {},
     "output_type": "execute_result"
    }
   ],
   "source": [
    "data['rate'].unique()"
   ]
  },
  {
   "cell_type": "code",
   "execution_count": 88,
   "metadata": {
    "executionInfo": {
     "elapsed": 363,
     "status": "ok",
     "timestamp": 1698234500006,
     "user": {
      "displayName": "Zeel Patel",
      "userId": "15884098855672591122"
     },
     "user_tz": -330
    },
    "id": "Vj_Cb0FtqNds"
   },
   "outputs": [],
   "source": [
    "data['rate'].fillna(data['rate'].mean(),inplace=True)"
   ]
  },
  {
   "cell_type": "code",
   "execution_count": 91,
   "metadata": {
    "colab": {
     "base_uri": "https://localhost:8080/"
    },
    "executionInfo": {
     "elapsed": 434,
     "status": "ok",
     "timestamp": 1698234539844,
     "user": {
      "displayName": "Zeel Patel",
      "userId": "15884098855672591122"
     },
     "user_tz": -330
    },
    "id": "FWx-PqXzqY21",
    "outputId": "77b20136-fce5-48f3-84f8-e811c775f9f8"
   },
   "outputs": [
    {
     "data": {
      "text/plain": [
       "online_order       0\n",
       "book_table         0\n",
       "rate               0\n",
       "votes              0\n",
       "location           0\n",
       "restrofacility     0\n",
       "cuisines           0\n",
       "cost for two       0\n",
       "restro type        0\n",
       "outlet location    0\n",
       "dtype: int64"
      ]
     },
     "execution_count": 91,
     "metadata": {},
     "output_type": "execute_result"
    }
   ],
   "source": [
    "data.isnull().sum()"
   ]
  },
  {
   "cell_type": "code",
   "execution_count": 92,
   "metadata": {
    "executionInfo": {
     "elapsed": 389,
     "status": "ok",
     "timestamp": 1698234634816,
     "user": {
      "displayName": "Zeel Patel",
      "userId": "15884098855672591122"
     },
     "user_tz": -330
    },
    "id": "DY22a6aNqpsE"
   },
   "outputs": [],
   "source": [
    "data.to_csv('cleaned_zomato_data.csv')"
   ]
  },
  {
   "cell_type": "code",
   "execution_count": null,
   "metadata": {
    "id": "9l1l9eN3rA5G"
   },
   "outputs": [],
   "source": []
  }
 ],
 "metadata": {
  "colab": {
   "authorship_tag": "ABX9TyO4i2KkQLFodUnNTswqU5n+",
   "mount_file_id": "1C8oJT0OPUXXspIVESTB_1UCV-feypWpH",
   "provenance": []
  },
  "kernelspec": {
   "display_name": "Python 3 (ipykernel)",
   "language": "python",
   "name": "python3"
  },
  "language_info": {
   "codemirror_mode": {
    "name": "ipython",
    "version": 3
   },
   "file_extension": ".py",
   "mimetype": "text/x-python",
   "name": "python",
   "nbconvert_exporter": "python",
   "pygments_lexer": "ipython3",
   "version": "3.11.5"
  }
 },
 "nbformat": 4,
 "nbformat_minor": 1
}
