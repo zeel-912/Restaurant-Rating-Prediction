{
 "cells": [
  {
   "cell_type": "code",
   "execution_count": 25,
   "metadata": {
    "colab": {
     "base_uri": "https://localhost:8080/"
    },
    "executionInfo": {
     "elapsed": 6137,
     "status": "ok",
     "timestamp": 1698243892825,
     "user": {
      "displayName": "Zeel Patel",
      "userId": "15884098855672591122"
     },
     "user_tz": -330
    },
    "id": "RirFAURCsDZJ",
    "outputId": "f01c7803-907e-487d-ef35-8af6a504645a"
   },
   "outputs": [
    {
     "name": "stdout",
     "output_type": "stream",
     "text": [
      "Drive already mounted at /content/drive; to attempt to forcibly remount, call drive.mount(\"/content/drive\", force_remount=True).\n"
     ]
    }
   ],
   "source": [
    "from google.colab import drive\n",
    "drive.mount('/content/drive')"
   ]
  },
  {
   "cell_type": "code",
   "execution_count": 2,
   "metadata": {
    "executionInfo": {
     "elapsed": 12,
     "status": "ok",
     "timestamp": 1698243892826,
     "user": {
      "displayName": "Zeel Patel",
      "userId": "15884098855672591122"
     },
     "user_tz": -330
    },
    "id": "4kOHi4dcsF33"
   },
   "outputs": [],
   "source": [
    "import pandas as pd\n",
    "import numpy as np\n"
   ]
  },
  {
   "cell_type": "code",
   "execution_count": 3,
   "metadata": {
    "executionInfo": {
     "elapsed": 11,
     "status": "ok",
     "timestamp": 1698243892826,
     "user": {
      "displayName": "Zeel Patel",
      "userId": "15884098855672591122"
     },
     "user_tz": -330
    },
    "id": "M-1WcQ6CsoCB"
   },
   "outputs": [],
   "source": [
    "data=pd.read_csv(\"/Users/zeelpatel/Desktop/Ineuron/Restaurant_Rating_prediction/notebook/data/cleaned_zomato_data.csv\")"
   ]
  },
  {
   "cell_type": "code",
   "execution_count": 4,
   "metadata": {
    "colab": {
     "base_uri": "https://localhost:8080/",
     "height": 309
    },
    "executionInfo": {
     "elapsed": 10,
     "status": "ok",
     "timestamp": 1698243892826,
     "user": {
      "displayName": "Zeel Patel",
      "userId": "15884098855672591122"
     },
     "user_tz": -330
    },
    "id": "78JJhD1-s1Rs",
    "outputId": "c9abf32e-1bd9-4439-f30e-3fc6869781f7"
   },
   "outputs": [
    {
     "data": {
      "text/html": [
       "<div>\n",
       "<style scoped>\n",
       "    .dataframe tbody tr th:only-of-type {\n",
       "        vertical-align: middle;\n",
       "    }\n",
       "\n",
       "    .dataframe tbody tr th {\n",
       "        vertical-align: top;\n",
       "    }\n",
       "\n",
       "    .dataframe thead th {\n",
       "        text-align: right;\n",
       "    }\n",
       "</style>\n",
       "<table border=\"1\" class=\"dataframe\">\n",
       "  <thead>\n",
       "    <tr style=\"text-align: right;\">\n",
       "      <th></th>\n",
       "      <th>Unnamed: 0</th>\n",
       "      <th>online_order</th>\n",
       "      <th>book_table</th>\n",
       "      <th>rate</th>\n",
       "      <th>votes</th>\n",
       "      <th>location</th>\n",
       "      <th>restrofacility</th>\n",
       "      <th>cuisines</th>\n",
       "      <th>cost for two</th>\n",
       "      <th>restro type</th>\n",
       "      <th>outlet location</th>\n",
       "    </tr>\n",
       "  </thead>\n",
       "  <tbody>\n",
       "    <tr>\n",
       "      <th>0</th>\n",
       "      <td>0</td>\n",
       "      <td>1</td>\n",
       "      <td>1</td>\n",
       "      <td>4.1</td>\n",
       "      <td>775</td>\n",
       "      <td>other</td>\n",
       "      <td>Casual Dining</td>\n",
       "      <td>other</td>\n",
       "      <td>800</td>\n",
       "      <td>Buffet</td>\n",
       "      <td>Banashankari</td>\n",
       "    </tr>\n",
       "    <tr>\n",
       "      <th>1</th>\n",
       "      <td>1</td>\n",
       "      <td>1</td>\n",
       "      <td>0</td>\n",
       "      <td>4.1</td>\n",
       "      <td>787</td>\n",
       "      <td>other</td>\n",
       "      <td>Casual Dining</td>\n",
       "      <td>other</td>\n",
       "      <td>800</td>\n",
       "      <td>Buffet</td>\n",
       "      <td>Banashankari</td>\n",
       "    </tr>\n",
       "    <tr>\n",
       "      <th>2</th>\n",
       "      <td>2</td>\n",
       "      <td>1</td>\n",
       "      <td>0</td>\n",
       "      <td>3.8</td>\n",
       "      <td>918</td>\n",
       "      <td>other</td>\n",
       "      <td>other</td>\n",
       "      <td>other</td>\n",
       "      <td>800</td>\n",
       "      <td>Buffet</td>\n",
       "      <td>Banashankari</td>\n",
       "    </tr>\n",
       "    <tr>\n",
       "      <th>3</th>\n",
       "      <td>3</td>\n",
       "      <td>0</td>\n",
       "      <td>0</td>\n",
       "      <td>3.7</td>\n",
       "      <td>88</td>\n",
       "      <td>other</td>\n",
       "      <td>Quick Bites</td>\n",
       "      <td>South Indian, North Indian</td>\n",
       "      <td>300</td>\n",
       "      <td>Buffet</td>\n",
       "      <td>Banashankari</td>\n",
       "    </tr>\n",
       "    <tr>\n",
       "      <th>4</th>\n",
       "      <td>4</td>\n",
       "      <td>0</td>\n",
       "      <td>0</td>\n",
       "      <td>3.8</td>\n",
       "      <td>166</td>\n",
       "      <td>other</td>\n",
       "      <td>Casual Dining</td>\n",
       "      <td>other</td>\n",
       "      <td>600</td>\n",
       "      <td>Buffet</td>\n",
       "      <td>Banashankari</td>\n",
       "    </tr>\n",
       "  </tbody>\n",
       "</table>\n",
       "</div>"
      ],
      "text/plain": [
       "   Unnamed: 0  online_order  book_table  rate  votes location restrofacility  \\\n",
       "0           0             1           1   4.1    775    other  Casual Dining   \n",
       "1           1             1           0   4.1    787    other  Casual Dining   \n",
       "2           2             1           0   3.8    918    other          other   \n",
       "3           3             0           0   3.7     88    other    Quick Bites   \n",
       "4           4             0           0   3.8    166    other  Casual Dining   \n",
       "\n",
       "                     cuisines  cost for two restro type outlet location  \n",
       "0                       other           800      Buffet    Banashankari  \n",
       "1                       other           800      Buffet    Banashankari  \n",
       "2                       other           800      Buffet    Banashankari  \n",
       "3  South Indian, North Indian           300      Buffet    Banashankari  \n",
       "4                       other           600      Buffet    Banashankari  "
      ]
     },
     "execution_count": 4,
     "metadata": {},
     "output_type": "execute_result"
    }
   ],
   "source": [
    "data.head()"
   ]
  },
  {
   "cell_type": "code",
   "execution_count": 5,
   "metadata": {
    "executionInfo": {
     "elapsed": 9,
     "status": "ok",
     "timestamp": 1698243892826,
     "user": {
      "displayName": "Zeel Patel",
      "userId": "15884098855672591122"
     },
     "user_tz": -330
    },
    "id": "sY9KpTHPs2hK"
   },
   "outputs": [],
   "source": [
    "data.drop(columns='Unnamed: 0',inplace=True,axis=1)"
   ]
  },
  {
   "cell_type": "code",
   "execution_count": 6,
   "metadata": {
    "colab": {
     "base_uri": "https://localhost:8080/"
    },
    "executionInfo": {
     "elapsed": 9,
     "status": "ok",
     "timestamp": 1698243892826,
     "user": {
      "displayName": "Zeel Patel",
      "userId": "15884098855672591122"
     },
     "user_tz": -330
    },
    "id": "noE9KOrptCjg",
    "outputId": "ff3f6657-18b4-46c2-f0a4-f066e1bbd428"
   },
   "outputs": [
    {
     "data": {
      "text/plain": [
       "(49126, 10)"
      ]
     },
     "execution_count": 6,
     "metadata": {},
     "output_type": "execute_result"
    }
   ],
   "source": [
    "data.shape"
   ]
  },
  {
   "cell_type": "code",
   "execution_count": 7,
   "metadata": {
    "colab": {
     "base_uri": "https://localhost:8080/"
    },
    "executionInfo": {
     "elapsed": 707,
     "status": "ok",
     "timestamp": 1698243893527,
     "user": {
      "displayName": "Zeel Patel",
      "userId": "15884098855672591122"
     },
     "user_tz": -330
    },
    "id": "Wa3LwrHFtMHc",
    "outputId": "9c2d43a9-88b4-4a3e-878b-8dd24bf1993b"
   },
   "outputs": [
    {
     "name": "stdout",
     "output_type": "stream",
     "text": [
      "<class 'pandas.core.frame.DataFrame'>\n",
      "RangeIndex: 49126 entries, 0 to 49125\n",
      "Data columns (total 10 columns):\n",
      " #   Column           Non-Null Count  Dtype  \n",
      "---  ------           --------------  -----  \n",
      " 0   online_order     49126 non-null  int64  \n",
      " 1   book_table       49126 non-null  int64  \n",
      " 2   rate             49126 non-null  float64\n",
      " 3   votes            49126 non-null  int64  \n",
      " 4   location         49126 non-null  object \n",
      " 5   restrofacility   49126 non-null  object \n",
      " 6   cuisines         49126 non-null  object \n",
      " 7   cost for two     49126 non-null  int64  \n",
      " 8   restro type      49126 non-null  object \n",
      " 9   outlet location  49126 non-null  object \n",
      "dtypes: float64(1), int64(4), object(5)\n",
      "memory usage: 3.7+ MB\n"
     ]
    }
   ],
   "source": [
    "data.info()"
   ]
  },
  {
   "cell_type": "code",
   "execution_count": 8,
   "metadata": {
    "executionInfo": {
     "elapsed": 20,
     "status": "ok",
     "timestamp": 1698243893527,
     "user": {
      "displayName": "Zeel Patel",
      "userId": "15884098855672591122"
     },
     "user_tz": -330
    },
    "id": "KhtdoQw6uMU1"
   },
   "outputs": [],
   "source": [
    "data.rename(columns={'restro type':'restro_type','cost for two':'cost_for_two','outlet location':'outlet_location'},inplace=True)"
   ]
  },
  {
   "cell_type": "code",
   "execution_count": 9,
   "metadata": {
    "executionInfo": {
     "elapsed": 19,
     "status": "ok",
     "timestamp": 1698243893527,
     "user": {
      "displayName": "Zeel Patel",
      "userId": "15884098855672591122"
     },
     "user_tz": -330
    },
    "id": "BkPQLL5xtOzh"
   },
   "outputs": [],
   "source": [
    "from sklearn.preprocessing import LabelEncoder\n",
    "encoder=LabelEncoder()"
   ]
  },
  {
   "cell_type": "code",
   "execution_count": 10,
   "metadata": {
    "executionInfo": {
     "elapsed": 18,
     "status": "ok",
     "timestamp": 1698243893527,
     "user": {
      "displayName": "Zeel Patel",
      "userId": "15884098855672591122"
     },
     "user_tz": -330
    },
    "id": "E4DZ67batdzf"
   },
   "outputs": [],
   "source": [
    "data.location=encoder.fit_transform(data.location)\n",
    "data.restrofacility=encoder.fit_transform(data.restrofacility)\n",
    "data.cuisines=encoder.fit_transform(data.cuisines)\n",
    "data.restro_type=encoder.fit_transform(data.restro_type)\n",
    "data.outlet_location=encoder.fit_transform(data.outlet_location)"
   ]
  },
  {
   "cell_type": "code",
   "execution_count": 11,
   "metadata": {
    "colab": {
     "base_uri": "https://localhost:8080/",
     "height": 224
    },
    "executionInfo": {
     "elapsed": 18,
     "status": "ok",
     "timestamp": 1698243893527,
     "user": {
      "displayName": "Zeel Patel",
      "userId": "15884098855672591122"
     },
     "user_tz": -330
    },
    "id": "eJB2gEBgwUba",
    "outputId": "80231303-2401-4639-c374-38f602014338"
   },
   "outputs": [
    {
     "data": {
      "text/html": [
       "<div>\n",
       "<style scoped>\n",
       "    .dataframe tbody tr th:only-of-type {\n",
       "        vertical-align: middle;\n",
       "    }\n",
       "\n",
       "    .dataframe tbody tr th {\n",
       "        vertical-align: top;\n",
       "    }\n",
       "\n",
       "    .dataframe thead th {\n",
       "        text-align: right;\n",
       "    }\n",
       "</style>\n",
       "<table border=\"1\" class=\"dataframe\">\n",
       "  <thead>\n",
       "    <tr style=\"text-align: right;\">\n",
       "      <th></th>\n",
       "      <th>online_order</th>\n",
       "      <th>book_table</th>\n",
       "      <th>rate</th>\n",
       "      <th>votes</th>\n",
       "      <th>location</th>\n",
       "      <th>restrofacility</th>\n",
       "      <th>cuisines</th>\n",
       "      <th>cost_for_two</th>\n",
       "      <th>restro_type</th>\n",
       "      <th>outlet_location</th>\n",
       "    </tr>\n",
       "  </thead>\n",
       "  <tbody>\n",
       "    <tr>\n",
       "      <th>0</th>\n",
       "      <td>1</td>\n",
       "      <td>1</td>\n",
       "      <td>4.1</td>\n",
       "      <td>775</td>\n",
       "      <td>18</td>\n",
       "      <td>2</td>\n",
       "      <td>19</td>\n",
       "      <td>800</td>\n",
       "      <td>0</td>\n",
       "      <td>1</td>\n",
       "    </tr>\n",
       "    <tr>\n",
       "      <th>1</th>\n",
       "      <td>1</td>\n",
       "      <td>0</td>\n",
       "      <td>4.1</td>\n",
       "      <td>787</td>\n",
       "      <td>18</td>\n",
       "      <td>2</td>\n",
       "      <td>19</td>\n",
       "      <td>800</td>\n",
       "      <td>0</td>\n",
       "      <td>1</td>\n",
       "    </tr>\n",
       "    <tr>\n",
       "      <th>2</th>\n",
       "      <td>1</td>\n",
       "      <td>0</td>\n",
       "      <td>3.8</td>\n",
       "      <td>918</td>\n",
       "      <td>18</td>\n",
       "      <td>8</td>\n",
       "      <td>19</td>\n",
       "      <td>800</td>\n",
       "      <td>0</td>\n",
       "      <td>1</td>\n",
       "    </tr>\n",
       "    <tr>\n",
       "      <th>3</th>\n",
       "      <td>0</td>\n",
       "      <td>0</td>\n",
       "      <td>3.7</td>\n",
       "      <td>88</td>\n",
       "      <td>18</td>\n",
       "      <td>6</td>\n",
       "      <td>17</td>\n",
       "      <td>300</td>\n",
       "      <td>0</td>\n",
       "      <td>1</td>\n",
       "    </tr>\n",
       "    <tr>\n",
       "      <th>4</th>\n",
       "      <td>0</td>\n",
       "      <td>0</td>\n",
       "      <td>3.8</td>\n",
       "      <td>166</td>\n",
       "      <td>18</td>\n",
       "      <td>2</td>\n",
       "      <td>19</td>\n",
       "      <td>600</td>\n",
       "      <td>0</td>\n",
       "      <td>1</td>\n",
       "    </tr>\n",
       "  </tbody>\n",
       "</table>\n",
       "</div>"
      ],
      "text/plain": [
       "   online_order  book_table  rate  votes  location  restrofacility  cuisines  \\\n",
       "0             1           1   4.1    775        18               2        19   \n",
       "1             1           0   4.1    787        18               2        19   \n",
       "2             1           0   3.8    918        18               8        19   \n",
       "3             0           0   3.7     88        18               6        17   \n",
       "4             0           0   3.8    166        18               2        19   \n",
       "\n",
       "   cost_for_two  restro_type  outlet_location  \n",
       "0           800            0                1  \n",
       "1           800            0                1  \n",
       "2           800            0                1  \n",
       "3           300            0                1  \n",
       "4           600            0                1  "
      ]
     },
     "execution_count": 11,
     "metadata": {},
     "output_type": "execute_result"
    }
   ],
   "source": [
    "data.head()"
   ]
  },
  {
   "cell_type": "code",
   "execution_count": 12,
   "metadata": {
    "colab": {
     "base_uri": "https://localhost:8080/"
    },
    "executionInfo": {
     "elapsed": 16,
     "status": "ok",
     "timestamp": 1698243893527,
     "user": {
      "displayName": "Zeel Patel",
      "userId": "15884098855672591122"
     },
     "user_tz": -330
    },
    "id": "Sz3rJ8CqwV1W",
    "outputId": "edfa5d49-22dd-4200-a575-9a272757f9de"
   },
   "outputs": [
    {
     "name": "stdout",
     "output_type": "stream",
     "text": [
      "<class 'pandas.core.frame.DataFrame'>\n",
      "RangeIndex: 49126 entries, 0 to 49125\n",
      "Data columns (total 10 columns):\n",
      " #   Column           Non-Null Count  Dtype  \n",
      "---  ------           --------------  -----  \n",
      " 0   online_order     49126 non-null  int64  \n",
      " 1   book_table       49126 non-null  int64  \n",
      " 2   rate             49126 non-null  float64\n",
      " 3   votes            49126 non-null  int64  \n",
      " 4   location         49126 non-null  int64  \n",
      " 5   restrofacility   49126 non-null  int64  \n",
      " 6   cuisines         49126 non-null  int64  \n",
      " 7   cost_for_two     49126 non-null  int64  \n",
      " 8   restro_type      49126 non-null  int64  \n",
      " 9   outlet_location  49126 non-null  int64  \n",
      "dtypes: float64(1), int64(9)\n",
      "memory usage: 3.7 MB\n"
     ]
    }
   ],
   "source": [
    "data.info()"
   ]
  },
  {
   "cell_type": "code",
   "execution_count": 13,
   "metadata": {
    "executionInfo": {
     "elapsed": 13,
     "status": "ok",
     "timestamp": 1698243893527,
     "user": {
      "displayName": "Zeel Patel",
      "userId": "15884098855672591122"
     },
     "user_tz": -330
    },
    "id": "W0sUgk1_w3Gb"
   },
   "outputs": [],
   "source": [
    "#splitting the data into X,y\n",
    "X=data.drop(columns='rate')\n",
    "y=data['rate']"
   ]
  },
  {
   "cell_type": "code",
   "execution_count": 14,
   "metadata": {
    "colab": {
     "base_uri": "https://localhost:8080/"
    },
    "executionInfo": {
     "elapsed": 13,
     "status": "ok",
     "timestamp": 1698243893527,
     "user": {
      "displayName": "Zeel Patel",
      "userId": "15884098855672591122"
     },
     "user_tz": -330
    },
    "id": "FoJVz6ToxBz2",
    "outputId": "28ea7f91-2a97-454d-f63b-1909a8b093d8"
   },
   "outputs": [
    {
     "data": {
      "text/plain": [
       "((49126, 9), (49126,))"
      ]
     },
     "execution_count": 14,
     "metadata": {},
     "output_type": "execute_result"
    }
   ],
   "source": [
    "X.shape,y.shape"
   ]
  },
  {
   "cell_type": "code",
   "execution_count": 15,
   "metadata": {
    "executionInfo": {
     "elapsed": 11,
     "status": "ok",
     "timestamp": 1698243893528,
     "user": {
      "displayName": "Zeel Patel",
      "userId": "15884098855672591122"
     },
     "user_tz": -330
    },
    "id": "RsnqEWVfwXVD"
   },
   "outputs": [],
   "source": [
    "from sklearn.linear_model import LogisticRegression\n",
    "from sklearn.linear_model import LinearRegression\n",
    "from sklearn.ensemble import ExtraTreesRegressor\n",
    "from sklearn.model_selection import train_test_split\n",
    "from sklearn.metrics import r2_score,mean_absolute_error"
   ]
  },
  {
   "cell_type": "code",
   "execution_count": 16,
   "metadata": {
    "executionInfo": {
     "elapsed": 10,
     "status": "ok",
     "timestamp": 1698243893528,
     "user": {
      "displayName": "Zeel Patel",
      "userId": "15884098855672591122"
     },
     "user_tz": -330
    },
    "id": "xv1tfRHwxFIl"
   },
   "outputs": [],
   "source": [
    "#splitting data into train and test\n",
    "X_train,X_test,y_train,y_test=train_test_split(X,y,test_size=0.20)"
   ]
  },
  {
   "cell_type": "code",
   "execution_count": 17,
   "metadata": {
    "colab": {
     "base_uri": "https://localhost:8080/"
    },
    "executionInfo": {
     "elapsed": 10,
     "status": "ok",
     "timestamp": 1698243893528,
     "user": {
      "displayName": "Zeel Patel",
      "userId": "15884098855672591122"
     },
     "user_tz": -330
    },
    "id": "Jp7mcWo5yQ-q",
    "outputId": "53c40d18-37f2-4b09-837c-9b98d3739992"
   },
   "outputs": [
    {
     "data": {
      "text/plain": [
       "((39300, 9), (9826, 9))"
      ]
     },
     "execution_count": 17,
     "metadata": {},
     "output_type": "execute_result"
    }
   ],
   "source": [
    "X_train.shape,X_test.shape"
   ]
  },
  {
   "cell_type": "code",
   "execution_count": 18,
   "metadata": {
    "colab": {
     "base_uri": "https://localhost:8080/",
     "height": 74
    },
    "executionInfo": {
     "elapsed": 8,
     "status": "ok",
     "timestamp": 1698243893528,
     "user": {
      "displayName": "Zeel Patel",
      "userId": "15884098855672591122"
     },
     "user_tz": -330
    },
    "id": "y490Xb0eyTeg",
    "outputId": "67d69f7c-3fda-4c27-a073-62d65247b894"
   },
   "outputs": [
    {
     "data": {
      "text/html": [
       "<style>#sk-container-id-1 {color: black;}#sk-container-id-1 pre{padding: 0;}#sk-container-id-1 div.sk-toggleable {background-color: white;}#sk-container-id-1 label.sk-toggleable__label {cursor: pointer;display: block;width: 100%;margin-bottom: 0;padding: 0.3em;box-sizing: border-box;text-align: center;}#sk-container-id-1 label.sk-toggleable__label-arrow:before {content: \"▸\";float: left;margin-right: 0.25em;color: #696969;}#sk-container-id-1 label.sk-toggleable__label-arrow:hover:before {color: black;}#sk-container-id-1 div.sk-estimator:hover label.sk-toggleable__label-arrow:before {color: black;}#sk-container-id-1 div.sk-toggleable__content {max-height: 0;max-width: 0;overflow: hidden;text-align: left;background-color: #f0f8ff;}#sk-container-id-1 div.sk-toggleable__content pre {margin: 0.2em;color: black;border-radius: 0.25em;background-color: #f0f8ff;}#sk-container-id-1 input.sk-toggleable__control:checked~div.sk-toggleable__content {max-height: 200px;max-width: 100%;overflow: auto;}#sk-container-id-1 input.sk-toggleable__control:checked~label.sk-toggleable__label-arrow:before {content: \"▾\";}#sk-container-id-1 div.sk-estimator input.sk-toggleable__control:checked~label.sk-toggleable__label {background-color: #d4ebff;}#sk-container-id-1 div.sk-label input.sk-toggleable__control:checked~label.sk-toggleable__label {background-color: #d4ebff;}#sk-container-id-1 input.sk-hidden--visually {border: 0;clip: rect(1px 1px 1px 1px);clip: rect(1px, 1px, 1px, 1px);height: 1px;margin: -1px;overflow: hidden;padding: 0;position: absolute;width: 1px;}#sk-container-id-1 div.sk-estimator {font-family: monospace;background-color: #f0f8ff;border: 1px dotted black;border-radius: 0.25em;box-sizing: border-box;margin-bottom: 0.5em;}#sk-container-id-1 div.sk-estimator:hover {background-color: #d4ebff;}#sk-container-id-1 div.sk-parallel-item::after {content: \"\";width: 100%;border-bottom: 1px solid gray;flex-grow: 1;}#sk-container-id-1 div.sk-label:hover label.sk-toggleable__label {background-color: #d4ebff;}#sk-container-id-1 div.sk-serial::before {content: \"\";position: absolute;border-left: 1px solid gray;box-sizing: border-box;top: 0;bottom: 0;left: 50%;z-index: 0;}#sk-container-id-1 div.sk-serial {display: flex;flex-direction: column;align-items: center;background-color: white;padding-right: 0.2em;padding-left: 0.2em;position: relative;}#sk-container-id-1 div.sk-item {position: relative;z-index: 1;}#sk-container-id-1 div.sk-parallel {display: flex;align-items: stretch;justify-content: center;background-color: white;position: relative;}#sk-container-id-1 div.sk-item::before, #sk-container-id-1 div.sk-parallel-item::before {content: \"\";position: absolute;border-left: 1px solid gray;box-sizing: border-box;top: 0;bottom: 0;left: 50%;z-index: -1;}#sk-container-id-1 div.sk-parallel-item {display: flex;flex-direction: column;z-index: 1;position: relative;background-color: white;}#sk-container-id-1 div.sk-parallel-item:first-child::after {align-self: flex-end;width: 50%;}#sk-container-id-1 div.sk-parallel-item:last-child::after {align-self: flex-start;width: 50%;}#sk-container-id-1 div.sk-parallel-item:only-child::after {width: 0;}#sk-container-id-1 div.sk-dashed-wrapped {border: 1px dashed gray;margin: 0 0.4em 0.5em 0.4em;box-sizing: border-box;padding-bottom: 0.4em;background-color: white;}#sk-container-id-1 div.sk-label label {font-family: monospace;font-weight: bold;display: inline-block;line-height: 1.2em;}#sk-container-id-1 div.sk-label-container {text-align: center;}#sk-container-id-1 div.sk-container {/* jupyter's `normalize.less` sets `[hidden] { display: none; }` but bootstrap.min.css set `[hidden] { display: none !important; }` so we also need the `!important` here to be able to override the default hidden behavior on the sphinx rendered scikit-learn.org. See: https://github.com/scikit-learn/scikit-learn/issues/21755 */display: inline-block !important;position: relative;}#sk-container-id-1 div.sk-text-repr-fallback {display: none;}</style><div id=\"sk-container-id-1\" class=\"sk-top-container\"><div class=\"sk-text-repr-fallback\"><pre>LinearRegression()</pre><b>In a Jupyter environment, please rerun this cell to show the HTML representation or trust the notebook. <br />On GitHub, the HTML representation is unable to render, please try loading this page with nbviewer.org.</b></div><div class=\"sk-container\" hidden><div class=\"sk-item\"><div class=\"sk-estimator sk-toggleable\"><input class=\"sk-toggleable__control sk-hidden--visually\" id=\"sk-estimator-id-1\" type=\"checkbox\" checked><label for=\"sk-estimator-id-1\" class=\"sk-toggleable__label sk-toggleable__label-arrow\">LinearRegression</label><div class=\"sk-toggleable__content\"><pre>LinearRegression()</pre></div></div></div></div></div>"
      ],
      "text/plain": [
       "LinearRegression()"
      ]
     },
     "execution_count": 18,
     "metadata": {},
     "output_type": "execute_result"
    }
   ],
   "source": [
    "lr_model=LinearRegression()\n",
    "lr_model.fit(X_train,y_train)"
   ]
  },
  {
   "cell_type": "code",
   "execution_count": 19,
   "metadata": {
    "colab": {
     "base_uri": "https://localhost:8080/"
    },
    "executionInfo": {
     "elapsed": 7,
     "status": "ok",
     "timestamp": 1698243893528,
     "user": {
      "displayName": "Zeel Patel",
      "userId": "15884098855672591122"
     },
     "user_tz": -330
    },
    "id": "ItMOqfdvyh3G",
    "outputId": "937a49bb-c471-4260-a118-59a2473b2a9a"
   },
   "outputs": [
    {
     "data": {
      "text/plain": [
       "0.7923052453971325"
      ]
     },
     "execution_count": 19,
     "metadata": {},
     "output_type": "execute_result"
    }
   ],
   "source": [
    "y_pred=lr_model.predict(X_test)\n",
    "score=r2_score(y_pred,y_test)\n",
    "score\n",
    "mse=mean_absolute_error(y_pred,y_test)\n",
    "mse"
   ]
  },
  {
   "cell_type": "code",
   "execution_count": 20,
   "metadata": {
    "colab": {
     "base_uri": "https://localhost:8080/",
     "height": 74
    },
    "executionInfo": {
     "elapsed": 24384,
     "status": "ok",
     "timestamp": 1698243917907,
     "user": {
      "displayName": "Zeel Patel",
      "userId": "15884098855672591122"
     },
     "user_tz": -330
    },
    "id": "tjQKqgrny-VE",
    "outputId": "f9714312-b47d-48c7-a8a6-44a1e33e9911"
   },
   "outputs": [
    {
     "data": {
      "text/html": [
       "<style>#sk-container-id-2 {color: black;}#sk-container-id-2 pre{padding: 0;}#sk-container-id-2 div.sk-toggleable {background-color: white;}#sk-container-id-2 label.sk-toggleable__label {cursor: pointer;display: block;width: 100%;margin-bottom: 0;padding: 0.3em;box-sizing: border-box;text-align: center;}#sk-container-id-2 label.sk-toggleable__label-arrow:before {content: \"▸\";float: left;margin-right: 0.25em;color: #696969;}#sk-container-id-2 label.sk-toggleable__label-arrow:hover:before {color: black;}#sk-container-id-2 div.sk-estimator:hover label.sk-toggleable__label-arrow:before {color: black;}#sk-container-id-2 div.sk-toggleable__content {max-height: 0;max-width: 0;overflow: hidden;text-align: left;background-color: #f0f8ff;}#sk-container-id-2 div.sk-toggleable__content pre {margin: 0.2em;color: black;border-radius: 0.25em;background-color: #f0f8ff;}#sk-container-id-2 input.sk-toggleable__control:checked~div.sk-toggleable__content {max-height: 200px;max-width: 100%;overflow: auto;}#sk-container-id-2 input.sk-toggleable__control:checked~label.sk-toggleable__label-arrow:before {content: \"▾\";}#sk-container-id-2 div.sk-estimator input.sk-toggleable__control:checked~label.sk-toggleable__label {background-color: #d4ebff;}#sk-container-id-2 div.sk-label input.sk-toggleable__control:checked~label.sk-toggleable__label {background-color: #d4ebff;}#sk-container-id-2 input.sk-hidden--visually {border: 0;clip: rect(1px 1px 1px 1px);clip: rect(1px, 1px, 1px, 1px);height: 1px;margin: -1px;overflow: hidden;padding: 0;position: absolute;width: 1px;}#sk-container-id-2 div.sk-estimator {font-family: monospace;background-color: #f0f8ff;border: 1px dotted black;border-radius: 0.25em;box-sizing: border-box;margin-bottom: 0.5em;}#sk-container-id-2 div.sk-estimator:hover {background-color: #d4ebff;}#sk-container-id-2 div.sk-parallel-item::after {content: \"\";width: 100%;border-bottom: 1px solid gray;flex-grow: 1;}#sk-container-id-2 div.sk-label:hover label.sk-toggleable__label {background-color: #d4ebff;}#sk-container-id-2 div.sk-serial::before {content: \"\";position: absolute;border-left: 1px solid gray;box-sizing: border-box;top: 0;bottom: 0;left: 50%;z-index: 0;}#sk-container-id-2 div.sk-serial {display: flex;flex-direction: column;align-items: center;background-color: white;padding-right: 0.2em;padding-left: 0.2em;position: relative;}#sk-container-id-2 div.sk-item {position: relative;z-index: 1;}#sk-container-id-2 div.sk-parallel {display: flex;align-items: stretch;justify-content: center;background-color: white;position: relative;}#sk-container-id-2 div.sk-item::before, #sk-container-id-2 div.sk-parallel-item::before {content: \"\";position: absolute;border-left: 1px solid gray;box-sizing: border-box;top: 0;bottom: 0;left: 50%;z-index: -1;}#sk-container-id-2 div.sk-parallel-item {display: flex;flex-direction: column;z-index: 1;position: relative;background-color: white;}#sk-container-id-2 div.sk-parallel-item:first-child::after {align-self: flex-end;width: 50%;}#sk-container-id-2 div.sk-parallel-item:last-child::after {align-self: flex-start;width: 50%;}#sk-container-id-2 div.sk-parallel-item:only-child::after {width: 0;}#sk-container-id-2 div.sk-dashed-wrapped {border: 1px dashed gray;margin: 0 0.4em 0.5em 0.4em;box-sizing: border-box;padding-bottom: 0.4em;background-color: white;}#sk-container-id-2 div.sk-label label {font-family: monospace;font-weight: bold;display: inline-block;line-height: 1.2em;}#sk-container-id-2 div.sk-label-container {text-align: center;}#sk-container-id-2 div.sk-container {/* jupyter's `normalize.less` sets `[hidden] { display: none; }` but bootstrap.min.css set `[hidden] { display: none !important; }` so we also need the `!important` here to be able to override the default hidden behavior on the sphinx rendered scikit-learn.org. See: https://github.com/scikit-learn/scikit-learn/issues/21755 */display: inline-block !important;position: relative;}#sk-container-id-2 div.sk-text-repr-fallback {display: none;}</style><div id=\"sk-container-id-2\" class=\"sk-top-container\"><div class=\"sk-text-repr-fallback\"><pre>RandomForestRegressor()</pre><b>In a Jupyter environment, please rerun this cell to show the HTML representation or trust the notebook. <br />On GitHub, the HTML representation is unable to render, please try loading this page with nbviewer.org.</b></div><div class=\"sk-container\" hidden><div class=\"sk-item\"><div class=\"sk-estimator sk-toggleable\"><input class=\"sk-toggleable__control sk-hidden--visually\" id=\"sk-estimator-id-2\" type=\"checkbox\" checked><label for=\"sk-estimator-id-2\" class=\"sk-toggleable__label sk-toggleable__label-arrow\">RandomForestRegressor</label><div class=\"sk-toggleable__content\"><pre>RandomForestRegressor()</pre></div></div></div></div></div>"
      ],
      "text/plain": [
       "RandomForestRegressor()"
      ]
     },
     "execution_count": 20,
     "metadata": {},
     "output_type": "execute_result"
    }
   ],
   "source": [
    "from sklearn.ensemble import RandomForestRegressor\n",
    "RFR=RandomForestRegressor()\n",
    "RFR.fit(X_train,y_train)"
   ]
  },
  {
   "cell_type": "code",
   "execution_count": 21,
   "metadata": {
    "colab": {
     "base_uri": "https://localhost:8080/"
    },
    "executionInfo": {
     "elapsed": 15,
     "status": "ok",
     "timestamp": 1698243917907,
     "user": {
      "displayName": "Zeel Patel",
      "userId": "15884098855672591122"
     },
     "user_tz": -330
    },
    "id": "4Tp8aVujzZN2",
    "outputId": "92d78f5b-ace4-480f-afe8-da9a1d925079"
   },
   "outputs": [
    {
     "data": {
      "text/plain": [
       "0.798738315070245"
      ]
     },
     "execution_count": 21,
     "metadata": {},
     "output_type": "execute_result"
    }
   ],
   "source": [
    "\n",
    "y_pred=RFR.predict(X_test)\n",
    "score_RFR=r2_score(y_pred,y_test)\n",
    "score_RFR"
   ]
  },
  {
   "cell_type": "code",
   "execution_count": 22,
   "metadata": {
    "colab": {
     "base_uri": "https://localhost:8080/"
    },
    "executionInfo": {
     "elapsed": 1736,
     "status": "ok",
     "timestamp": 1698243919635,
     "user": {
      "displayName": "Zeel Patel",
      "userId": "15884098855672591122"
     },
     "user_tz": -330
    },
    "id": "UCW8jlBaztRK",
    "outputId": "add861c7-4e9f-4012-96dd-336df4af57bf"
   },
   "outputs": [
    {
     "data": {
      "text/plain": [
       "0.9595765668252147"
      ]
     },
     "execution_count": 22,
     "metadata": {},
     "output_type": "execute_result"
    }
   ],
   "source": [
    "y_pred_train=RFR.predict(X_train)\n",
    "score_RFR_train=r2_score(y_pred_train,y_train)\n",
    "score_RFR_train"
   ]
  },
  {
   "cell_type": "code",
   "execution_count": 23,
   "metadata": {
    "executionInfo": {
     "elapsed": 5,
     "status": "ok",
     "timestamp": 1698243919636,
     "user": {
      "displayName": "Zeel Patel",
      "userId": "15884098855672591122"
     },
     "user_tz": -330
    },
    "id": "CbfHeheM0kPI"
   },
   "outputs": [],
   "source": [
    "params={'n_estimators':[10,20,30,40,50],\n",
    "        'max_depth':[1,2,3,4,5,6,7],\n",
    "        'criterion':['squared_error', 'absolute_error', 'friedman_mse', 'poisson']}"
   ]
  },
  {
   "cell_type": "code",
   "execution_count": null,
   "metadata": {
    "id": "7rwVH7oH0MT6"
   },
   "outputs": [],
   "source": [
    "from sklearn.model_selection import GridSearchCV\n",
    "\n",
    "grid_CV=GridSearchCV(RFR,param_grid=params,scoring='r2' ,cv=5)\n",
    "\n",
    "grid_CV.fit(X_train,y_train)\n"
   ]
  },
  {
   "cell_type": "code",
   "execution_count": 1,
   "metadata": {
    "executionInfo": {
     "elapsed": 3,
     "status": "aborted",
     "timestamp": 1698243879050,
     "user": {
      "displayName": "Zeel Patel",
      "userId": "15884098855672591122"
     },
     "user_tz": -330
    },
    "id": "OuXeUsXe2Bzn"
   },
   "outputs": [],
   "source": [
    "from sklearn.model_selection import cross_val_score, KFold\n",
    "from sklearn.metrics import mean_squared_error\n"
   ]
  },
  {
   "cell_type": "code",
   "execution_count": 23,
   "metadata": {},
   "outputs": [
    {
     "name": "stdout",
     "output_type": "stream",
     "text": [
      "Fold 1: RMSE = 0.535\n",
      "Fold 2: RMSE = 0.525\n",
      "Fold 3: RMSE = 0.526\n",
      "Fold 4: RMSE = 0.527\n",
      "Fold 5: RMSE = 0.507\n",
      "Average RMSE across 5 folds: 0.524\n"
     ]
    }
   ],
   "source": [
    "# Define the number of folds for cross-validation\n",
    "num_folds = 5\n",
    "\n",
    "# Create a K-Fold cross-validation object\n",
    "kf = KFold(n_splits=num_folds, shuffle=True, random_state=42)\n",
    "\n",
    "# Perform cross-validation\n",
    "mse_scores = cross_val_score(RFR, X, y, cv=kf, scoring='neg_mean_squared_error')\n",
    "\n",
    "# Convert MSE scores to positive values and calculate RMSE (Root Mean Squared Error)\n",
    "rmse_scores = np.sqrt(-mse_scores)\n",
    "\n",
    "# Print RMSE scores for each fold\n",
    "for fold, rmse in enumerate(rmse_scores):\n",
    "    print(f\"Fold {fold + 1}: RMSE = {rmse:.3f}\")\n",
    "\n",
    "# Calculate the average RMSE\n",
    "average_rmse = np.mean(rmse_scores)\n",
    "print(f\"Average RMSE across {num_folds} folds: {average_rmse:.3f}\")"
   ]
  },
  {
   "cell_type": "code",
   "execution_count": 24,
   "metadata": {},
   "outputs": [],
   "source": [
    "from sklearn.metrics import make_scorer, r2_score"
   ]
  },
  {
   "cell_type": "code",
   "execution_count": 25,
   "metadata": {},
   "outputs": [
    {
     "name": "stdout",
     "output_type": "stream",
     "text": [
      "Fold 1: R2 = 0.780\n",
      "Fold 2: R2 = 0.791\n",
      "Fold 3: R2 = 0.812\n",
      "Fold 4: R2 = 0.889\n",
      "Fold 5: R2 = 0.847\n",
      "Average R2 across folds: 0.824\n"
     ]
    }
   ],
   "source": [
    "# Define a custom scoring function for R2\n",
    "custom_r2_scorer = make_scorer(r2_score)\n",
    "\n",
    "# Perform cross-validation to calculate R2 scores\n",
    "cv_scores = cross_val_score(RFR, X, y, cv=5, scoring=custom_r2_scorer)\n",
    "\n",
    "# Print R2 scores for each fold\n",
    "for fold, score in enumerate(cv_scores):\n",
    "    print(f\"Fold {fold + 1}: R2 = {score:.3f}\")\n",
    "\n",
    "# Calculate the average R2 score\n",
    "average_r2 = np.mean(cv_scores)\n",
    "print(f\"Average R2 across folds: {average_r2:.3f}\")"
   ]
  },
  {
   "cell_type": "code",
   "execution_count": null,
   "metadata": {},
   "outputs": [],
   "source": []
  }
 ],
 "metadata": {
  "colab": {
   "authorship_tag": "ABX9TyOo1WDoz4uhrVRdZRC/DLzj",
   "provenance": []
  },
  "kernelspec": {
   "display_name": "Python 3 (ipykernel)",
   "language": "python",
   "name": "python3"
  },
  "language_info": {
   "codemirror_mode": {
    "name": "ipython",
    "version": 3
   },
   "file_extension": ".py",
   "mimetype": "text/x-python",
   "name": "python",
   "nbconvert_exporter": "python",
   "pygments_lexer": "ipython3",
   "version": "3.11.5"
  }
 },
 "nbformat": 4,
 "nbformat_minor": 1
}
